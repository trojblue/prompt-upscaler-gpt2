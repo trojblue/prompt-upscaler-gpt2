{
 "cells": [
  {
   "cell_type": "markdown",
   "metadata": {},
   "source": [
    "## GPT V3\n",
    "\n",
    "单个模型(fixed), 直接对接到webui (生成很多个), 所以产生一行一个的结果"
   ]
  },
  {
   "cell_type": "code",
   "execution_count": 1,
   "metadata": {},
   "outputs": [],
   "source": [
    "from tqdm.auto import tqdm\n",
    "import gradio as gr\n",
    "import transformers\n",
    "import torch\n",
    "import os\n",
    "\n",
    "\n",
    "import os\n",
    "import hashlib\n",
    "import json\n",
    "from datetime import datetime\n",
    "import concurrent.futures\n",
    "\n",
    "\n",
    "# Assuming DEVICE is already defined\n",
    "DEVICE = 'cuda'  # Use 'cuda' for GPU or 'cpu' for CPU\n",
    "\n",
    "# Path to the models' directories\n",
    "MODEL_DIRS = [\n",
    "    'pixiv-prompts-gpt-finetunes/8xh100_run2_e2_s50k',\n",
    "]\n",
    "\n",
    "# Load the model and tokenizer from the directory\n",
    "MODEL_NAME = os.path.basename(os.path.normpath(MODEL_DIRS[0]))\n",
    "model = transformers.GPT2LMHeadModel.from_pretrained(MODEL_DIRS[0]).to(DEVICE).eval()\n",
    "tokenizer = transformers.AutoTokenizer.from_pretrained(MODEL_DIRS[0])\n",
    "\n",
    "def generate_text(rating: str, date: str, quality: str, character: str, prompt: str, max_length: int, num_lines: int):\n",
    "    \"\"\"Generate text based on input prompt.\"\"\"\n",
    "    query_prompt = f'<input rating=\"{rating}\" chara=\"{character}\" date=\"{date}\" quality=\"{quality}\" tags=\"{prompt}\">'\n",
    "    query_prompt += \"<output>\"\n",
    "\n",
    "    all_outputs = []\n",
    "    for _ in range(num_lines):\n",
    "        input_ids = tokenizer.encode(query_prompt, return_tensors='pt').to(DEVICE)\n",
    "        output_sequences = model.generate(\n",
    "            input_ids=input_ids,\n",
    "            max_length=max_length + len(input_ids[0]),\n",
    "            temperature=1.0,\n",
    "            top_k=50,\n",
    "            top_p=0.95,\n",
    "            repetition_penalty=1.0,\n",
    "            do_sample=True,\n",
    "            num_return_sequences=1,\n",
    "        )\n",
    "\n",
    "        generated_text = tokenizer.decode(output_sequences[0], skip_special_tokens=True)\n",
    "\n",
    "        # Find and remove the initial part up to <output>\n",
    "        start_output = generated_text.find(\"<output>\") + len(\"<output>\")\n",
    "        generated_text = generated_text[start_output:].strip()\n",
    "\n",
    "        # Remove the ending </output> tag or truncate at last complete tag\n",
    "        end_tag = generated_text.find(\"</output>\")\n",
    "        if end_tag != -1:\n",
    "            generated_text = generated_text[:end_tag]\n",
    "        else:\n",
    "            last_comma = generated_text.rfind(\",\")\n",
    "            if last_comma != -1:\n",
    "                generated_text = generated_text[:last_comma]\n",
    "\n",
    "        all_outputs.append(generated_text.strip())\n",
    "\n",
    "    # Join all outputs into a single string separated by new lines\n",
    "    return \"\\n\".join(all_outputs)"
   ]
  },
  {
   "cell_type": "code",
   "execution_count": 2,
   "metadata": {},
   "outputs": [],
   "source": [
    "IMG_OUTPUT_DIR = \"generated_images\"\n",
    "\n",
    "\n",
    "def save_images_and_metadata(gend_images, gend_text, prompt):\n",
    "    # Ensure the output directory exists\n",
    "    os.makedirs(IMG_OUTPUT_DIR, exist_ok=True)\n",
    "\n",
    "    for image in gend_images:\n",
    "        # Get filename\n",
    "        timestamp = datetime.now().strftime('%Y%m%d%H%M%S')\n",
    "        img_hash = hashlib.md5(image.tobytes()).hexdigest()        \n",
    "        file_name = f\"{timestamp}_{img_hash[:4]}.webp\"        \n",
    "        file_path = os.path.join(IMG_OUTPUT_DIR, file_name)\n",
    "        \n",
    "        # Save image\n",
    "        image.save(file_path, format='WEBP')\n",
    "\n",
    "        # Create metadata JSON\n",
    "        metadata = {\n",
    "            \"prompt\": prompt,\n",
    "            \"generated_text\": gend_text,\n",
    "        }\n",
    "        json_file_name = f\"{timestamp}_{img_hash[:4]}.json\"\n",
    "        json_file_path = os.path.join(IMG_OUTPUT_DIR, json_file_name)\n",
    "        \n",
    "        with open(json_file_path, 'w') as json_file:\n",
    "            json.dump(metadata, json_file)"
   ]
  },
  {
   "cell_type": "code",
   "execution_count": 3,
   "metadata": {},
   "outputs": [
    {
     "name": "stderr",
     "output_type": "stream",
     "text": [
      "2024-07-17 07:04:57,102 [INFO] UniLogger: UniLoader.loads: .json LOADED from \"/tmp/tmpohsd16ey/dset_danbooru_character_related_tags_idf_thres3.5.json\" in 0.19s\n"
     ]
    },
    {
     "name": "stdout",
     "output_type": "stream",
     "text": [
      "\n",
      "\n"
     ]
    }
   ],
   "source": [
    "import unibox as ub\n",
    "\n",
    "from dataproc4.utils.string_utils import safe_split_tag_string, safe_concat\n",
    "\n",
    "\n",
    "def preproc_idf_dict(idf_dict: dict) -> dict:\n",
    "    \"\"\"\n",
    "    Convert underscores in keys and values of the idf_dict to spaces.\n",
    "    Split each value string into a list, remove items that are keys in the idf_dict, \n",
    "    and then join the list back into a string.\n",
    "    \"\"\"\n",
    "    new_idf_dict = {}\n",
    "    for key, value in idf_dict.items():\n",
    "        new_key = key.replace(\"_\", \" \")\n",
    "        value_list = safe_split_tag_string(value.replace(\"_\", \" \"))\n",
    "        \n",
    "        # Remove items that are keys in the idf_dict\n",
    "        value_list = [item for item in value_list if item not in idf_dict]\n",
    "        \n",
    "        new_value = \", \".join(value_list)\n",
    "        new_idf_dict[new_key] = new_value\n",
    "    return new_idf_dict\n",
    "\n",
    "\n",
    "idf_uri = \"s3://bucket-data-catalog/data_catalog/silver_mini/dset_danbooru_character_related_tags_idf_thres3.5.json\"\n",
    "idf_dict = preproc_idf_dict(ub.loads(idf_uri))\n",
    "\n",
    "chara_tags = \"yoisaki kanade\"\n",
    "general_tags = \"\"\n",
    "\n",
    "\n",
    "import random\n",
    "\n",
    "def augment_prompt(chara_tags:str, general_tags:str, idf_dict:dict):\n",
    "    \n",
    "    # print(f\"Received: chara tags: {chara_tags}, general tags: {general_tags}\")\n",
    "\n",
    "    # chara_list = safe_split_tag_string(chara_tags)\n",
    "    # chara_list = [i.replace(\"_\", \" \") for i in chara_list] # convert to danbooru format\n",
    "\n",
    "    # new_general_tags = safe_split_tag_string(general_tags)\n",
    "\n",
    "    # for chara in chara_list:\n",
    "    #     if chara in idf_dict:\n",
    "    #         idf_candidates = safe_split_tag_string(idf_dict[chara])\n",
    "    #         # random select up to 4 tags\n",
    "    #         if len(idf_candidates) > 2:\n",
    "    #             idf_candidates = random.sample(idf_candidates, 2)\n",
    "    #         else:\n",
    "    #             idf_candidates = idf_candidates\n",
    "\n",
    "    #         new_general_tags += idf_candidates\n",
    "    \n",
    "    # new_general_tags = safe_concat(list(set(new_general_tags)))\n",
    "\n",
    "    # print(f\"Augmented general tags: {new_general_tags}\")\n",
    "    \n",
    "    # return new_general_tags\n",
    "    return general_tags\n",
    "\n",
    "\n",
    "print(augment_prompt(\"yoisaki_kanade\", \"\", idf_dict))\n",
    "print(augment_prompt(\"ootori emu\", \"\", idf_dict))"
   ]
  },
  {
   "cell_type": "code",
   "execution_count": 4,
   "metadata": {},
   "outputs": [
    {
     "name": "stdout",
     "output_type": "stream",
     "text": [
      "\n",
      "1girl, yellow eyes, selfie, hair over one eye, black pantyhose, gothic lolita, white hair, long hair\n"
     ]
    }
   ],
   "source": [
    "def split_chara_and_gneral(tag_str:str):\n",
    "    tags = safe_split_tag_string(tag_str)\n",
    "    tags = [i.replace(\"_\", \" \") for i in tags]\n",
    "\n",
    "    chara_tags = []\n",
    "    general_tags = []\n",
    "    for tag in tags:\n",
    "        if tag in idf_dict:\n",
    "            chara_tags.append(tag)\n",
    "        else:\n",
    "            general_tags.append(tag)\n",
    "    return safe_concat(chara_tags), safe_concat(general_tags)\n",
    "\n",
    "chara, general = split_chara_and_gneral(\"yoisaki kanade, ootori emu\")\n",
    "\n",
    "chara, general = split_chara_and_gneral(\"1girl, yellow eyes, selfie, hair over one eye, black pantyhose, gothic lolita, white hair, long hair\")\n",
    "print(chara)\n",
    "print(general)"
   ]
  },
  {
   "cell_type": "code",
   "execution_count": 5,
   "metadata": {},
   "outputs": [
    {
     "name": "stdout",
     "output_type": "stream",
     "text": [
      "Running on local URL:  http://127.0.0.1:9876\n",
      "Running on public URL: https://df9bb26c42e629e5d0.gradio.live\n",
      "\n",
      "This share link expires in 72 hours. For free permanent hosting and GPU upgrades, run `gradio deploy` from Terminal to deploy to Spaces (https://huggingface.co/spaces)\n"
     ]
    },
    {
     "data": {
      "text/html": [
       "<div><iframe src=\"https://df9bb26c42e629e5d0.gradio.live\" width=\"100%\" height=\"500\" allow=\"autoplay; camera; microphone; clipboard-read; clipboard-write;\" frameborder=\"0\" allowfullscreen></iframe></div>"
      ],
      "text/plain": [
       "<IPython.core.display.HTML object>"
      ]
     },
     "metadata": {},
     "output_type": "display_data"
    },
    {
     "data": {
      "text/plain": []
     },
     "execution_count": 5,
     "metadata": {},
     "output_type": "execute_result"
    },
    {
     "name": "stderr",
     "output_type": "stream",
     "text": [
      "The attention mask and the pad token id were not set. As a consequence, you may observe unexpected behavior. Please pass your input's `attention_mask` to obtain reliable results.\n",
      "Setting `pad_token_id` to `eos_token_id`:50256 for open-end generation.\n"
     ]
    },
    {
     "name": "stdout",
     "output_type": "stream",
     "text": [
      "Get input: Character: [] | General: []\n",
      "Generated text: 1girl, animal ears, cat ears, barefoot, black hair, looking at viewer, animal ear fluff, cat girl, red eyes, strap slip, indoors, on couch, very long hair, knees up, red ribbon, bare shoulders, window, hair ribbon, sleeveless dress, white dress, bangs, eyebrows visible through hair, frilled dress, potted plant, bare arms, closed mouth, sunlight, armchair, tail raised, picture frame, collarbone, white flower, pillow, neck ribbon, holding animal, full body, crossed ankles, hair between eyes, hair intakes, hands on own knees, spaghetti strap, stuffed toy\n"
     ]
    },
    {
     "name": "stderr",
     "output_type": "stream",
     "text": [
      "The attention mask and the pad token id were not set. As a consequence, you may observe unexpected behavior. Please pass your input's `attention_mask` to obtain reliable results.\n",
      "Setting `pad_token_id` to `eos_token_id`:50256 for open-end generation.\n"
     ]
    },
    {
     "name": "stdout",
     "output_type": "stream",
     "text": [
      "Generated text: multiple girls, swimsuit, 2girls, blue eyes, blonde hair, pink hair, red eyes, barefoot, jewelry, ponytail, holding hands, very long hair, bracelet, toenail polish, blue nails, thigh strap, looking at viewer, medium breasts, open mouth, interlocked fingers, cleavage, black bikini, standing, star (sky), outdoors, full body, night sky, halterneck, white bikini, star (symbol), bare legs, :d, criss-cross halter, bangs, hair ornament, small breasts, collarbone, side-tie bikini bottom, white ribbon, stomach, yuri, original works, bare shoulders, closed mouth, dutch angle, holding towel, leaning forward\n"
     ]
    },
    {
     "name": "stderr",
     "output_type": "stream",
     "text": [
      "The attention mask and the pad token id were not set. As a consequence, you may observe unexpected behavior. Please pass your input's `attention_mask` to obtain reliable results.\n",
      "Setting `pad_token_id` to `eos_token_id`:50256 for open-end generation.\n"
     ]
    },
    {
     "name": "stdout",
     "output_type": "stream",
     "text": [
      "Get input: Character: [yoisaki kanade] | General: [nipples, hetero, after sex, cum, spread legs]\n",
      "Generated text: yoisaki kanade, 1girl, nipples, cum, hetero, censored, 1boy, bar censor, long hair, open mouth, spread legs, blush, sweat, hairjob, black thighhighs, looking at viewer, small breasts, r-18, project sekai, bukkake, spread pussy, after sex, arm support, black hairband, cum on body, cum on stomach, indoors, sitting\n"
     ]
    },
    {
     "name": "stderr",
     "output_type": "stream",
     "text": [
      "The attention mask and the pad token id were not set. As a consequence, you may observe unexpected behavior. Please pass your input's `attention_mask` to obtain reliable results.\n",
      "Setting `pad_token_id` to `eos_token_id`:50256 for open-end generation.\n"
     ]
    },
    {
     "name": "stdout",
     "output_type": "stream",
     "text": [
      "Generated text: yoisaki kanade, 1girl, nipples, hetero, 1boy, blue eyes, sex toy, small breasts, very long hair, cum, after sex, silver hair, holding, open mouth, vibrator, pussy, solo focus, looking at viewer, spread legs, armpits, blush, completely nude, blue hair, arm behind head, bangs, collarbone, blurry, uncensored, r-18, project sekai, completely naked, creampie, birthday suit, beautiful girl, cum on body, cum in mouth, on bed\n"
     ]
    },
    {
     "name": "stderr",
     "output_type": "stream",
     "text": [
      "The attention mask and the pad token id were not set. As a consequence, you may observe unexpected behavior. Please pass your input's `attention_mask` to obtain reliable results.\n",
      "Setting `pad_token_id` to `eos_token_id`:50256 for open-end generation.\n"
     ]
    },
    {
     "name": "stdout",
     "output_type": "stream",
     "text": [
      "Get input: Character: [yoisaki kanade] | General: [nipples, hetero, after sex, cum, spread legs]\n",
      "Generated text: yoisaki kanade, 1girl, nipples, censored, 1boy, blue eyes, mosaic censoring, hetero, blue hair, cum, spread legs, blush, small breasts, solo focus, after sex, open mouth, lying, on back, hair between eyes, pussy, collarbone, after vaginal, very long hair, erection, completely nude, pov, ejaculation, bangs, looking at viewer, r-18, 25-ji, night code de., on bed, stomach\n"
     ]
    },
    {
     "name": "stderr",
     "output_type": "stream",
     "text": [
      "The attention mask and the pad token id were not set. As a consequence, you may observe unexpected behavior. Please pass your input's `attention_mask` to obtain reliable results.\n",
      "Setting `pad_token_id` to `eos_token_id`:50256 for open-end generation.\n"
     ]
    },
    {
     "name": "stdout",
     "output_type": "stream",
     "text": [
      "Generated text: yoisaki kanade, 1girl, nipples, spread legs, open mouth, lying, cum, looking at viewer, medium breasts, on back, long hair, blush, ahoge, hair between eyes, blue eyes, silver hair, completely nude, bangs, after sex, spread pussy, indoors, stomach, hetero, cum in pussy, 1boy, r-18, project sekai, completely naked, creampie, arm up, from above, heavy breathing, pillow, solo focus\n"
     ]
    },
    {
     "name": "stderr",
     "output_type": "stream",
     "text": [
      "The attention mask and the pad token id were not set. As a consequence, you may observe unexpected behavior. Please pass your input's `attention_mask` to obtain reliable results.\n",
      "Setting `pad_token_id` to `eos_token_id`:50256 for open-end generation.\n"
     ]
    },
    {
     "name": "stdout",
     "output_type": "stream",
     "text": [
      "Get input: Character: [yoisaki kanade] | General: [nipples, hetero, after sex, cum, spread legs, cum in pussy, cumdrip, defloration, detached sleeves, dress, film grain, flat chest, flower, hair flower, hair ornament, hair over one eye, lace-trimmed legwear, lace trim, latin cross, long hair, lying]\n",
      "Generated text: yoisaki kanade, 1girl, nipples, censored, mosaic censoring, defloration, hetero, on back, white thighhighs, solo focus, 1boy, medium breasts, detached sleeves, cum, spread legs, dress pull, clothes pull, after sex, black dress, cum in pussy, cumdrip, clothes lift, r-18, project sekai, creampie, deflowering, beautiful female bodies, after vaginal, bare shoulders, blonde hair, closed mouth, film grain, frown, hair between eyes, hair flower, hair over one eye, heavy breathing, looking at viewer, sleeveless dress\n"
     ]
    },
    {
     "name": "stderr",
     "output_type": "stream",
     "text": [
      "The attention mask and the pad token id were not set. As a consequence, you may observe unexpected behavior. Please pass your input's `attention_mask` to obtain reliable results.\n",
      "Setting `pad_token_id` to `eos_token_id`:50256 for open-end generation.\n"
     ]
    },
    {
     "name": "stdout",
     "output_type": "stream",
     "text": [
      "Generated text: yoisaki kanade, nipples, blue eyes, censored, mosaic censoring, cum, black thighhighs, 1girl, spread legs, detached sleeves, 1boy, bare shoulders, cum in pussy, looking at viewer, parted lips, after sex, hair between eyes, defloration, clothes pull, r-18, flat chest, cumdrip, cum in ass, film grain, flower, grey hair, hands on own thighs, indoors, legs up, solo focus, spread anus, straight hair, sweatdrop, top-down bottom-up, vaginal object insertion, white dress, wooden floor, zipper pull tab, yellow ribbon, zipper dress, zipper pull tab\n"
     ]
    },
    {
     "name": "stderr",
     "output_type": "stream",
     "text": [
      "The attention mask and the pad token id were not set. As a consequence, you may observe unexpected behavior. Please pass your input's `attention_mask` to obtain reliable results.\n",
      "Setting `pad_token_id` to `eos_token_id`:50256 for open-end generation.\n"
     ]
    },
    {
     "name": "stdout",
     "output_type": "stream",
     "text": [
      "Get input: Character: [yoisaki kanade] | General: [nipples, hetero, after sex, cum, spread legs, cum in pussy, cumdrip, defloration, detached sleeves, dress, film grain, flat chest, flower, hair flower, hair ornament, hair over one eye, lace-trimmed legwear, lace trim, latin cross, long hair, lying, spread pussy, sweat, tears, thighhighs, virtual youtuber, white dress]\n",
      "Generated text: yoisaki kanade, project sekai, censored, nipples, 1girl, cum, spread legs, cumdrip, defloration, wedding dress, 1boy, after sex, mosaic censoring, hetero, blood on face, blush, elbow gloves, black bow, crying, clothed female nude male, cum in pussy, detached sleeves, flower, frills, hair bow, hair ornament, looking at viewer, no shoes, pov, recording, r-18, creampie, cum in ass, small breasts, solo focus, striped bow, thighs, viewfinder, yellow eyes, yellow bow, yandere, yellow neckerchief\n"
     ]
    },
    {
     "name": "stderr",
     "output_type": "stream",
     "text": [
      "The attention mask and the pad token id were not set. As a consequence, you may observe unexpected behavior. Please pass your input's `attention_mask` to obtain reliable results.\n",
      "Setting `pad_token_id` to `eos_token_id`:50256 for open-end generation.\n"
     ]
    },
    {
     "name": "stdout",
     "output_type": "stream",
     "text": [
      "Generated text: yoisaki kanade, 1girl, nipples, 1boy, censored, mosaic censoring, after sex, torn clothes, spread legs, cum in pussy, cumdrip, after vaginal, blue eyes, wedding dress, flat chest, solo focus, hetero, flower, looking at viewer, bangs, defloration, hair over one eye, recording, r-18, deflowering, creampie, blood splatter, clothes pull, cum in mouth, cum pool, crying, cum in ass, detached sleeves, film grain, half-closed eyes, injury, open mouth, pov, short hair\n"
     ]
    },
    {
     "name": "stderr",
     "output_type": "stream",
     "text": [
      "The attention mask and the pad token id were not set. As a consequence, you may observe unexpected behavior. Please pass your input's `attention_mask` to obtain reliable results.\n",
      "Setting `pad_token_id` to `eos_token_id`:50256 for open-end generation.\n"
     ]
    },
    {
     "name": "stdout",
     "output_type": "stream",
     "text": [
      "Get input: Character: [yoisaki kanade] | General: [nipples, hetero, after sex, cum, spread legs, cum in pussy, cumdrip, defloration, detached sleeves, dress, film grain, flat chest, hair flower, hair ornament, hair over one eye, lace-trimmed legwear, lace trim, latin cross, long hair, lying, spread pussy, sweat, tears, thighhighs, virtual youtuber, white dress, blue hair]\n",
      "Generated text: yoisaki kanade, nijisanji, 1girl, nipples, 1boy, cum, hetero, defloration, detached sleeves, on back, spread legs, hair flower, pillow, cum in pussy, bed sheet, flat chest, pussy juice, bare shoulders, white legwear, closed mouth, after sex, bangs, censored, cumdrip, black sleeves, chromatic aberration, looking at viewer, dress lift, x-ray, grey eyes, overflow, mosaic censoring, dress pull, female ejaculation, sex toy, recording, r-18, doggy style, clothes pull, recording studio, tearing up\n"
     ]
    },
    {
     "name": "stderr",
     "output_type": "stream",
     "text": [
      "The attention mask and the pad token id were not set. As a consequence, you may observe unexpected behavior. Please pass your input's `attention_mask` to obtain reliable results.\n",
      "Setting `pad_token_id` to `eos_token_id`:50256 for open-end generation.\n"
     ]
    },
    {
     "name": "stdout",
     "output_type": "stream",
     "text": [
      "Generated text: yoisaki kanade, defloration, open mouth, 1girl, censored, nipples, 1boy, pussy juice, cum, hair over one eye, bare shoulders, flat chest, hair flower, x-ray, 2girls, multiple girls, spread legs, cum in pussy, r-18, nijisanji, after sex, cross-section view, armpit crease, detached sleeves, hair ornament, hetero, looking at viewer, mosaic censoring, nail polish, solo focus, straight hair, torogao, white sleeves, yellow nails, yellow sleeves, yellow thighhighs, zipper pull tab, yellow theme\n"
     ]
    },
    {
     "name": "stderr",
     "output_type": "stream",
     "text": [
      "The attention mask and the pad token id were not set. As a consequence, you may observe unexpected behavior. Please pass your input's `attention_mask` to obtain reliable results.\n",
      "Setting `pad_token_id` to `eos_token_id`:50256 for open-end generation.\n"
     ]
    },
    {
     "name": "stdout",
     "output_type": "stream",
     "text": [
      "Get input: Character: [yoisaki kanade] | General: [nipples, hetero, after sex, cum, spread legs, cum in pussy, cumdrip, defloration, detached sleeves, dress, film grain, flat chest, hair flower, hair ornament, hair over one eye, lace-trimmed legwear, lace trim, latin cross, long hair, lying, spread pussy, sweat, tears, thighhighs, white dress, blue hair]\n",
      "Generated text: yoisaki kanade, project sekai, creampie, deflowering, after sex, 1girl, censored, close-up, cum, dress, cum in pussy, detached sleeves, hair flower, hair ornament, head back, hetero, knees up, nipples, pussy juice, solo focus, spread legs, sleeveless dress, sitting, viewfinder, white flower, yellow eyes, yellow theme, yellow ribbon, yellow rose, yellow thighhighs, yellow wings, yellow ribbon, worried, wide-eyed, worried smith, you gonna get raped, yellow sleeves, yellow theme, cumdrip, yellow wings, film grain\n"
     ]
    },
    {
     "name": "stderr",
     "output_type": "stream",
     "text": [
      "The attention mask and the pad token id were not set. As a consequence, you may observe unexpected behavior. Please pass your input's `attention_mask` to obtain reliable results.\n",
      "Setting `pad_token_id` to `eos_token_id`:50256 for open-end generation.\n"
     ]
    },
    {
     "name": "stdout",
     "output_type": "stream",
     "text": [
      "Generated text: yoisaki kanade, 1girl, on back, nipples, cum, black gloves, cum in pussy, mosaic censoring, looking at viewer, nude, detached sleeves, cumdrip, r-18, defloration, creampie, after sex, bare shoulders, bed sheet, censored, black choker, cum in ass, flat chest, frills, hair ornament, hair flower, hair spread out, hair ribbon, injury, nail polish, on bed, pov hands, solo focus, spread legs, torn clothes, torn gloves, torn leotard, viewer holding leash, torn thighhighs, worried, wide-eyed, worried yandere pose\n"
     ]
    },
    {
     "name": "stderr",
     "output_type": "stream",
     "text": [
      "The attention mask and the pad token id were not set. As a consequence, you may observe unexpected behavior. Please pass your input's `attention_mask` to obtain reliable results.\n",
      "Setting `pad_token_id` to `eos_token_id`:50256 for open-end generation.\n"
     ]
    },
    {
     "name": "stdout",
     "output_type": "stream",
     "text": [
      "Get input: Character: [yoisaki kanade] | General: [nipples, hetero, after sex, cum, spread legs, cum in pussy, cumdrip, defloration, detached sleeves, dress, film grain, flat chest, hair flower, hair ornament, hair over one eye, lace-trimmed legwear, lace trim, latin cross, long hair, lying, spread pussy, sweat, tears, thighhighs, white dress, blue hair, 1girl, after sex, after vaginal, anemone \\(flower\\), anus, bare shoulders, bed, bed sheet, blood, blush, bow]\n",
      "Generated text: yoisaki kanade, cum, covering face, cumdrip, cum in pussy, cum in mouth, detached sleeves, detached collar, dutch angle, frills, hetero, hair flower, hair over one eye, knees up, light purple hair, multiple girls, neck ribbon, parted lips, pink flower, print rose, red flower, red ribbon, sainan high school uniform, short hair, sleeveless shirt, stained glass, television, torogao, white flower, white rose, white sleeves\n"
     ]
    },
    {
     "name": "stderr",
     "output_type": "stream",
     "text": [
      "The attention mask and the pad token id were not set. As a consequence, you may observe unexpected behavior. Please pass your input's `attention_mask` to obtain reliable results.\n",
      "Setting `pad_token_id` to `eos_token_id`:50256 for open-end generation.\n"
     ]
    },
    {
     "name": "stdout",
     "output_type": "stream",
     "text": [
      "Generated text: yoisaki kanade, film grain, crying, cum, detached sleeves, cum in pussy, cumdrip, film strip, hair flower, hair ornament, long sleeves, maid, nail polish, on side, nipples, red ribbon, red footwear, saliva, skindentation, solo focus, torn clothes, uncensored, torn dress, torn legwear, upper teeth only, white sleeves, white thighhighs, yellow flower, yellow rose, yellow ribbon, yellow theme, yellow rose, white theme, wings\n"
     ]
    },
    {
     "name": "stderr",
     "output_type": "stream",
     "text": [
      "The attention mask and the pad token id were not set. As a consequence, you may observe unexpected behavior. Please pass your input's `attention_mask` to obtain reliable results.\n",
      "Setting `pad_token_id` to `eos_token_id`:50256 for open-end generation.\n"
     ]
    },
    {
     "name": "stdout",
     "output_type": "stream",
     "text": [
      "Get input: Character: [yoisaki kanade] | General: [nipples, hetero, after sex, cum, spread legs, cum in pussy, cumdrip, defloration, detached sleeves, dress, film grain, flat chest, hair flower, hair ornament, hair over one eye, lace-trimmed legwear, lace trim, latin cross, long hair, lying, spread pussy, sweat, tears, thighhighs, white dress, blue hair, 1girl, after sex, after vaginal, anemone \\(flower\\), anus, bare shoulders, bed, bed sheet, blood, blush, bow]\n",
      "Generated text: yoisaki kanade, bar censor, blood on face, crying, cum, cum in pussy, detached sleeves, film grain, from above, hair over one eye, hair ornament, hetero, hood up, mosaic censoring, nipples, open mouth, picture frame, scared, short hair, sitting, solo focus, spread legs, torn clothes, uncensored, torn dress, white sleeves, yellow flower, yellow rose, yellow ribbon, yellow sleeves, yellow theme, worried, yellow socks, wrist ribbon\n"
     ]
    },
    {
     "name": "stderr",
     "output_type": "stream",
     "text": [
      "The attention mask and the pad token id were not set. As a consequence, you may observe unexpected behavior. Please pass your input's `attention_mask` to obtain reliable results.\n",
      "Setting `pad_token_id` to `eos_token_id`:50256 for open-end generation.\n"
     ]
    },
    {
     "name": "stdout",
     "output_type": "stream",
     "text": [
      "Generated text: yoisaki kanade, bar censor, blue eyes, film grain, cum, frilled dress, hair over one eye, hetero, knees up, looking at viewer, lower body, one eye closed, nipples, nude, pussy juice, red flower, red sleeves, see-through, pussy juice, sex toy, purple flower, shaded face, sitting, spread legs, spread pussy under clothes, strap slip, strap-on, solo focus, torso grab, uncensored, virtual youtuber\n"
     ]
    },
    {
     "name": "stderr",
     "output_type": "stream",
     "text": [
      "The attention mask and the pad token id were not set. As a consequence, you may observe unexpected behavior. Please pass your input's `attention_mask` to obtain reliable results.\n",
      "Setting `pad_token_id` to `eos_token_id`:50256 for open-end generation.\n"
     ]
    },
    {
     "name": "stdout",
     "output_type": "stream",
     "text": [
      "Get input: Character: [yoisaki kanade] | General: [nipples, hetero, after sex, cum, spread legs, cum in pussy, cumdrip, defloration, detached sleeves, dress, film grain, flat chest, hair flower, hair ornament, lace-trimmed legwear, latin cross, long hair, lying, spread pussy, sweat, tears, thighhighs, white dress, blue hair, 1girl, after sex, after vaginal, anus, bare shoulders, bed, bed sheet, blood, blush, bow]\n",
      "Generated text: yoisaki kanade, film grain, cum, cumdrip, cum in pussy, flat chest, cum pool, filmred, cum on body, dress lift, defloration, detached sleeves, frilled sleeves, high heels, hetero, nipples, open mouth, solo focus, tongue, tongue out, two-footed footjob, uncensored, vaginal, veil, white legwear, x-ray, x-ray film, wide sleeves, yellow eyes, yuri, yellow ribbon, zettai ryouiki\n"
     ]
    },
    {
     "name": "stderr",
     "output_type": "stream",
     "text": [
      "The attention mask and the pad token id were not set. As a consequence, you may observe unexpected behavior. Please pass your input's `attention_mask` to obtain reliable results.\n",
      "Setting `pad_token_id` to `eos_token_id`:50256 for open-end generation.\n"
     ]
    },
    {
     "name": "stdout",
     "output_type": "stream",
     "text": [
      "Generated text: yoisaki kanade, project sekai, defloration, cum, cum in pussy, film grain, frilled dress, hair flower, hairband, half-closed eyes, hetero, lily (flower), lolita fashion, microphone, multiple condoms, nipples, open mouth, pussy juice, purple hair, small breasts, smile, solo focus, straddling, twintails, uncensored, very long hair, walk-in, white legwear, white sleeves, x-ray, wide sleeves, white theme, yellow eyes, yellow ribbon, yellow nails\n"
     ]
    },
    {
     "name": "stderr",
     "output_type": "stream",
     "text": [
      "The attention mask and the pad token id were not set. As a consequence, you may observe unexpected behavior. Please pass your input's `attention_mask` to obtain reliable results.\n",
      "Setting `pad_token_id` to `eos_token_id`:50256 for open-end generation.\n"
     ]
    },
    {
     "name": "stdout",
     "output_type": "stream",
     "text": [
      "Get input: Character: [yoisaki kanade] | General: [nipples, hetero, after sex, spread legs, cum in pussy, cumdrip, defloration, detached sleeves, dress, film grain, flat chest, hair flower, hair ornament, lace-trimmed legwear, latin cross, long hair, lying, spread pussy, sweat, tears, thighhighs, white dress, blue hair, 1girl, after sex, after vaginal, anus, bare shoulders, bed, bed sheet, blood, blush, bow]\n",
      "Generated text: yoisaki kanade, defloration, cumdrip, cum in pussy, cum on body, detached sleeves, film grain, hetero, jewelry, nipples, r-18, bangs, deflowering, defloration, lying, open mouth, purple ribbon, small breasts, solo focus, spread legs, thigh grab, wavy hair, white sleeves, wrist ribbon, yukkuri shiteitte ne, wrist ribbontie, yellow eyes, yellow flower, yellow ribbon, yellow rose, zipper pull tab, yellow socks, yellow theme, wide sleeves, zipper dress, wide shot\n"
     ]
    },
    {
     "name": "stderr",
     "output_type": "stream",
     "text": [
      "The attention mask and the pad token id were not set. As a consequence, you may observe unexpected behavior. Please pass your input's `attention_mask` to obtain reliable results.\n",
      "Setting `pad_token_id` to `eos_token_id`:50256 for open-end generation.\n"
     ]
    },
    {
     "name": "stdout",
     "output_type": "stream",
     "text": [
      "Generated text: yoisaki kanade, defloration, cum in pussy, mosaic censoring, nipples, white legwear, cumdrip, small breasts, detached sleeves, solo focus, wedding dress, spread legs, 2girls, multiple girls, long sleeves, bangs, hair flower, hair ornament, close-up, r-18, project sekai, 2boys, black bow, dress bow, female pov, flat chest, girl on top, group sex, hair over eyes, high ponytail, lace-trimmed legwear, multiple boys, open mouth, pillow, pov crotch\n"
     ]
    },
    {
     "name": "stderr",
     "output_type": "stream",
     "text": [
      "The attention mask and the pad token id were not set. As a consequence, you may observe unexpected behavior. Please pass your input's `attention_mask` to obtain reliable results.\n",
      "Setting `pad_token_id` to `eos_token_id`:50256 for open-end generation.\n"
     ]
    },
    {
     "name": "stdout",
     "output_type": "stream",
     "text": [
      "Get input: Character: [yoisaki kanade] | General: [nipples, hetero, after sex, spread legs, cum in pussy, cumdrip, defloration, detached sleeves, dress, film grain, flat chest, hair flower, hair ornament, lace-trimmed legwear, latin cross, long hair, lying, spread pussy, sweat, tears, thighhighs, white dress, blue hair, 1girl, after sex, after vaginal, anus, bare shoulders, bed, bed sheet, blood, blush, bow]\n",
      "Generated text: yoisaki kanade, project sekai, 2girls, black dress, cum in pussy, cumdrip, cum string, frilled dress, grey hair, hetero, indoors, looking back, nipples, on stomach, solo focus, spread legs, tape gag, tape bondage, uncensored, wedding dress, white sleeves, white legwear, window, wrist cuffs, yellow eyes, x-ray, dress bow, worried, x-ray glasses, x-ray vision, worried yuri, 1boy, :<, ^^^, black choker, blue flower, blue ribbon\n"
     ]
    },
    {
     "name": "stderr",
     "output_type": "stream",
     "text": [
      "The attention mask and the pad token id were not set. As a consequence, you may observe unexpected behavior. Please pass your input's `attention_mask` to obtain reliable results.\n",
      "Setting `pad_token_id` to `eos_token_id`:50256 for open-end generation.\n"
     ]
    },
    {
     "name": "stdout",
     "output_type": "stream",
     "text": [
      "Generated text: yoisaki kanade, kanon/riko, love live! sunshine!!, deflowering, cum in pussy, cumdrip, film grain, hair flower, implied anal, lying, legs up, on back, open mouth, photo (object), picture (object), saliva trail, short hair, socks, small breasts, torn clothes, tongue, torn dress, uncensored, nipples, wedding dress, twintails, virtual youtuber, video camera, voyeurism, white sleeves, wooden floor, yellow eyes, white legwear, yuri, cum pool, hetero\n"
     ]
    },
    {
     "name": "stderr",
     "output_type": "stream",
     "text": [
      "The attention mask and the pad token id were not set. As a consequence, you may observe unexpected behavior. Please pass your input's `attention_mask` to obtain reliable results.\n",
      "Setting `pad_token_id` to `eos_token_id`:50256 for open-end generation.\n"
     ]
    },
    {
     "name": "stdout",
     "output_type": "stream",
     "text": [
      "Get input: Character: [yoisaki kanade] | General: [1girl, solo, nipples, after sex, spread legs, cum in pussy, cumdrip, defloration, detached sleeves, dress, film grain, flat chest, hair flower, hair ornament, lace-trimmed legwear, latin cross, long hair, lying, spread pussy, sweat, tears, thighhighs, white dress, blue hair, 1girl, after sex, after vaginal, anus, bare shoulders, bed, bed sheet, blood, blush, bow]\n",
      "Generated text: yoisaki kanade, r-18, flat chest, bangs, cumdrip, defloration, cum in pussy, film grain, hair ornament, legs up, looking at viewer, nude, nipples, parted lips, solo, spread legs, straight hair, torn clothes, torso grab, white flower, yellow ribbon, yellow rose, yellow scarf, detached sleeves, white theme\n"
     ]
    },
    {
     "name": "stderr",
     "output_type": "stream",
     "text": [
      "The attention mask and the pad token id were not set. As a consequence, you may observe unexpected behavior. Please pass your input's `attention_mask` to obtain reliable results.\n",
      "Setting `pad_token_id` to `eos_token_id`:50256 for open-end generation.\n"
     ]
    },
    {
     "name": "stdout",
     "output_type": "stream",
     "text": [
      "Generated text: yoisaki kanade, defloration, ahoge, cum in pussy, covering face, cumdrip, detached sleeves, film grain, frills, legs up, long sleeves, looking at viewer, pussy juice, short hair, solo focus, sleeveless dress, spread legs, steaming body, striped ribbon, torn clothes, uncensored, nipples, white flower, yellow ribbon, wedding dress, white rose, yellow flower, white legwear, recording, r-18, virtual youtuber, deflowering, crying, cum overflow, cum pool, dress lift\n"
     ]
    },
    {
     "name": "stderr",
     "output_type": "stream",
     "text": [
      "The attention mask and the pad token id were not set. As a consequence, you may observe unexpected behavior. Please pass your input's `attention_mask` to obtain reliable results.\n",
      "Setting `pad_token_id` to `eos_token_id`:50256 for open-end generation.\n"
     ]
    },
    {
     "name": "stdout",
     "output_type": "stream",
     "text": [
      "Get input: Character: [yoisaki kanade] | General: [1girl, solo, nipples, after sex, spread legs, cum in pussy, cumdrip, defloration, detached sleeves, dress, film grain, flat chest, hair flower, lace-trimmed legwear, long hair, lying, spread pussy, sweat, tears, thighhighs, white dress, blue hair, 1girl, after sex, after vaginal, anus, bare shoulders, bed, bed sheet, blood, blush, bow]\n",
      "Generated text: yoisaki kanade, teary-eyed, deflowering, censored, detached sleeves, hair flower, hair ornament, lying, mosaic censoring, on back, solo, open mouth, spread legs, small breasts, white legwear, x-ray, cum in pussy, nipples, white sleeves, x-ray glasses, white flower, wide sleeves, x-ray vision, yellow-framed eyewear, yellow ribbon, yellow rose, yellow sleeves, dress pull, yellow theme, yellow socks, yellow tail, cumdrip, detached collar, flat chest, long hair, looking down\n"
     ]
    },
    {
     "name": "stderr",
     "output_type": "stream",
     "text": [
      "The attention mask and the pad token id were not set. As a consequence, you may observe unexpected behavior. Please pass your input's `attention_mask` to obtain reliable results.\n",
      "Setting `pad_token_id` to `eos_token_id`:50256 for open-end generation.\n"
     ]
    },
    {
     "name": "stdout",
     "output_type": "stream",
     "text": [
      "Generated text: yoisaki kanade, defloration, cum in pussy, film grain, knees up, lying, on back, nipples, solo, spread legs, very long hair, black legwear, censored, bangs, dress pull, cumdrip, open mouth, defloration, detached sleeves, white flower, hair flower\n"
     ]
    },
    {
     "name": "stderr",
     "output_type": "stream",
     "text": [
      "The attention mask and the pad token id were not set. As a consequence, you may observe unexpected behavior. Please pass your input's `attention_mask` to obtain reliable results.\n",
      "Setting `pad_token_id` to `eos_token_id`:50256 for open-end generation.\n"
     ]
    },
    {
     "name": "stdout",
     "output_type": "stream",
     "text": [
      "Get input: Character: [yoisaki kanade] | General: [1girl, solo, nipples, after sex, spread legs, cum in pussy, cumdrip, defloration, detached sleeves, dress, film grain, flat chest, lace-trimmed legwear, long hair, lying, spread pussy, sweat, tears, thighhighs, white dress, blue hair, 1girl, after sex, after vaginal, anus, bare shoulders, bed, bed sheet, blood, blush, bow]\n",
      "Generated text: yoisaki kanade, bang dream! girls band party!, r-18, cumdrip, cum in pussy, film grain, frilled dress, grey hair, hair ornament, in container, long hair, lying, looking at viewer, on back, solo, strapless dress, spread legs, stained sheets, torn clothes, uncensored, white legwear, white sleeves, wooden floor, wet clothes, white socks, wavy mouth, wings, virtual youtuber, nipples, yellow eyes, flat chest, defloration\n"
     ]
    },
    {
     "name": "stderr",
     "output_type": "stream",
     "text": [
      "The attention mask and the pad token id were not set. As a consequence, you may observe unexpected behavior. Please pass your input's `attention_mask` to obtain reliable results.\n",
      "Setting `pad_token_id` to `eos_token_id`:50256 for open-end generation.\n"
     ]
    },
    {
     "name": "stdout",
     "output_type": "stream",
     "text": [
      "Generated text: yoisaki kanade, defloration, cum in pussy, cumdrip, crying, cum pool, defloration, detached sleeves, grey hair, injury, indoors, nipples, solo, sitting, small breasts, spread legs, tape gag, surgical mask, recording, see-through, underwear, viewfinder, white legwear, white panties, uncensored, thighs, two dimensions, arched back, bed sheet, dress pull, frills, lace-trimmed legwear, leaning back, looking away, looking down, mouth mask, ponytail, pussy juice trail, ribbon, skindentation, sparse pubic hair\n",
      "Get input: Character: [yoisaki kanade] | General: [1girl, solo, nipples, after sex, spread legs, cum in pussy, cumdrip, defloration, detached sleeves, dress, film grain, flat chest, lace-trimmed legwear, long hair, lying, spread pussy, sweat, tears, thighhighs, white dress, blue hair, after sex, after vaginal, anus, bare shoulders, bed, bed sheet, blood, blush, bow]\n",
      "Using original input: yoisaki kanade, 1girl, solo, nipples, after sex, spread legs, cum in pussy, cumdrip, defloration, detached sleeves, dress, film grain, flat chest, lace-trimmed legwear, long hair, lying, spread pussy, sweat, tears, thighhighs, white dress, blue hair, after sex, after vaginal, anus, bare shoulders, bed, bed sheet, blood, blush, bow\n",
      "Using original input: yoisaki kanade, 1girl, solo, nipples, after sex, spread legs, cum in pussy, cumdrip, defloration, detached sleeves, dress, film grain, flat chest, lace-trimmed legwear, long hair, lying, spread pussy, sweat, tears, thighhighs, white dress, blue hair, after sex, after vaginal, anus, bare shoulders, bed, bed sheet, blood, blush, bow\n",
      "Get input: Character: [yoisaki kanade] | General: [1girl, solo, nipples, after sex, spread legs, cum in pussy, cumdrip, defloration, detached sleeves, dress, film grain, flat chest, lace-trimmed legwear, long hair, lying, blue eyes, spread pussy, sweat, tears, thighhighs, white dress, blue hair, after sex, after vaginal, anus, bare shoulders, bed, bed sheet, blood, blush, bow]\n",
      "Using original input: yoisaki kanade, 1girl, solo, nipples, after sex, spread legs, cum in pussy, cumdrip, defloration, detached sleeves, dress, film grain, flat chest, lace-trimmed legwear, long hair, lying, blue eyes, spread pussy, sweat, tears, thighhighs, white dress, blue hair, after sex, after vaginal, anus, bare shoulders, bed, bed sheet, blood, blush, bow\n",
      "Using original input: yoisaki kanade, 1girl, solo, nipples, after sex, spread legs, cum in pussy, cumdrip, defloration, detached sleeves, dress, film grain, flat chest, lace-trimmed legwear, long hair, lying, blue eyes, spread pussy, sweat, tears, thighhighs, white dress, blue hair, after sex, after vaginal, anus, bare shoulders, bed, bed sheet, blood, blush, bow\n"
     ]
    },
    {
     "name": "stderr",
     "output_type": "stream",
     "text": [
      "The attention mask and the pad token id were not set. As a consequence, you may observe unexpected behavior. Please pass your input's `attention_mask` to obtain reliable results.\n",
      "Setting `pad_token_id` to `eos_token_id`:50256 for open-end generation.\n"
     ]
    },
    {
     "name": "stdout",
     "output_type": "stream",
     "text": [
      "Get input: Character: [yoisaki kanade] | General: [1girl, solo, nipples, after sex, spread legs, cum in pussy, cumdrip, defloration, detached sleeves, dress, film grain, flat chest, lace-trimmed legwear, long hair, lying, blue eyes, spread pussy, sweat, tears, thighhighs, white dress, blue hair, after sex, after vaginal, anus, bare shoulders, bed, bed sheet, blood, blush, bow]\n",
      "Generated text: yoisaki kanade, project sekai, 1girl, cum in pussy, cumdrip, flat chest, detached sleeves, frills, looking at viewer, mosaic censoring, nipples, on side, solo, spread legs, torn clothes, torn dress, uncensored, white hair, white sleeves, yellow bow, yellow eyes, long hair, recording, viewfinder, underwear, torn panties, defloration, film grain\n"
     ]
    },
    {
     "name": "stderr",
     "output_type": "stream",
     "text": [
      "The attention mask and the pad token id were not set. As a consequence, you may observe unexpected behavior. Please pass your input's `attention_mask` to obtain reliable results.\n",
      "Setting `pad_token_id` to `eos_token_id`:50256 for open-end generation.\n"
     ]
    },
    {
     "name": "stdout",
     "output_type": "stream",
     "text": [
      "Generated text: yoisaki kanade, project sekai, defloration, cumdrip, film grain, injury, looking at viewer, nipples, multiple views, on side, solo, twintails, white legwear, torn clothes, white leotard, uncensored, 1girl, bangs, torn leotard, cum in pussy, detached sleeves, tearing up, torn panties, underwear, white panties, video camera, white sleeves, wings, x-ray, yandere, wide-eyed, defloration, video camera\n"
     ]
    },
    {
     "name": "stderr",
     "output_type": "stream",
     "text": [
      "The attention mask and the pad token id were not set. As a consequence, you may observe unexpected behavior. Please pass your input's `attention_mask` to obtain reliable results.\n",
      "Setting `pad_token_id` to `eos_token_id`:50256 for open-end generation.\n"
     ]
    },
    {
     "name": "stdout",
     "output_type": "stream",
     "text": [
      "Get input: Character: [yoisaki kanade] | General: [1girl, solo, nipples, after sex, spread legs, cum in pussy, cumdrip, defloration, detached sleeves, dress, film grain, flat chest, lace-trimmed legwear, long hair, lying, blue eyes, spread pussy, sweat, tears, thighhighs, white dress, blue hair, after sex, after vaginal, anus, bare shoulders, bed, bed sheet, blood, blush, bow]\n",
      "Generated text: yoisaki kanade, 25-ji, night code de., ahoge, cum in pussy, cumdrip, cum pool, cum on body, crying, crying with eyes open, defloration, flat chest, frills, holding, holding cum, jewelry, nipples, necklace, solo, strangling, spread legs, tsundere, white hair, wide-eyed, yellow eyes, voyeurism, yellow choker, yellow ribbon, yellow bow, wrist ribbon, wings, detached sleeves, hair ribbon, video camera, bangs, recording, black background, 1girl, r-18, project sekai, after rape\n"
     ]
    },
    {
     "name": "stderr",
     "output_type": "stream",
     "text": [
      "The attention mask and the pad token id were not set. As a consequence, you may observe unexpected behavior. Please pass your input's `attention_mask` to obtain reliable results.\n",
      "Setting `pad_token_id` to `eos_token_id`:50256 for open-end generation.\n"
     ]
    },
    {
     "name": "stdout",
     "output_type": "stream",
     "text": [
      "Generated text: yoisaki kanade, r-18, defloration, creampie, the disease called love, nipples, 1girl, detached sleeves, cum in pussy, cumdrip, defloration, hair spread out, long hair, lying, on back, solo, thighs, torn clothes, window shade, wide sleeves, white sleeves, yuri, film grain\n"
     ]
    },
    {
     "name": "stderr",
     "output_type": "stream",
     "text": [
      "The attention mask and the pad token id were not set. As a consequence, you may observe unexpected behavior. Please pass your input's `attention_mask` to obtain reliable results.\n",
      "Setting `pad_token_id` to `eos_token_id`:50256 for open-end generation.\n"
     ]
    },
    {
     "name": "stdout",
     "output_type": "stream",
     "text": [
      "Get input: Character: [yoisaki kanade] | General: [1girl, solo, nipples, after sex, spread legs, cum in pussy, cumdrip, defloration, detached sleeves, dress, film grain, flat chest, lace-trimmed legwear, long hair, lying, blue eyes, spread pussy, sweat, tears, thighhighs, white dress, blue hair, after sex, after vaginal, anus, bare shoulders, bed, bed sheet, blood, blush, bow]\n",
      "Generated text: yoisaki kanade, defloration, 1girl, blue eyes, nipples, cumdrip, solo, film grain, deflowering, ahoge, detached sleeves, legs up, long hair, looking at viewer, nude, pov, small breasts, spread legs, steaming body, torn clothes, torn dress, twintails, white sleeves, white theme, white socks, wings, zettai ryouiki, yellow ribbon, yellow eyes, wings of magius, cum in pussy\n"
     ]
    },
    {
     "name": "stderr",
     "output_type": "stream",
     "text": [
      "The attention mask and the pad token id were not set. As a consequence, you may observe unexpected behavior. Please pass your input's `attention_mask` to obtain reliable results.\n",
      "Setting `pad_token_id` to `eos_token_id`:50256 for open-end generation.\n"
     ]
    },
    {
     "name": "stdout",
     "output_type": "stream",
     "text": [
      "Generated text: yoisaki kanade, defloration, 1girl, cum in pussy, spread legs, torn clothes, looking at viewer, open mouth, cumdrip, detached sleeves, long hair, pussy juice, solo, nipples, crying, flat chest, cum pool, deflowering, black hairband, clothes lift, cum on body, cum on breasts, cum in mouth, facial, lace-trimmed legwear, red ribbon, sleeveless dress, thighs, torn dress, upside-down\n"
     ]
    },
    {
     "name": "stderr",
     "output_type": "stream",
     "text": [
      "The attention mask and the pad token id were not set. As a consequence, you may observe unexpected behavior. Please pass your input's `attention_mask` to obtain reliable results.\n",
      "Setting `pad_token_id` to `eos_token_id`:50256 for open-end generation.\n"
     ]
    },
    {
     "name": "stdout",
     "output_type": "stream",
     "text": [
      "Get input: Character: [yoisaki kanade] | General: [1girl, solo, nipples, after sex, spread legs, cum in pussy, dress, film grain, flat chest, lace-trimmed legwear, long hair, lying, blue eyes, spread pussy, sweat, tears, thighhighs, white dress, blue hair, after sex, after vaginal, anus, bare shoulders, bed, bed sheet, blood, blush, bow]\n",
      "Generated text: yoisaki kanade, 1girl, blue eyes, solo, cum in pussy, lying, long hair, detached sleeves, open mouth, flat chest, looking at viewer, nipples, black legwear, white hair, spread legs, film grain, cumdrip, dress pull, film strip, pillow, parted lips, tears\n"
     ]
    },
    {
     "name": "stderr",
     "output_type": "stream",
     "text": [
      "The attention mask and the pad token id were not set. As a consequence, you may observe unexpected behavior. Please pass your input's `attention_mask` to obtain reliable results.\n",
      "Setting `pad_token_id` to `eos_token_id`:50256 for open-end generation.\n"
     ]
    },
    {
     "name": "stdout",
     "output_type": "stream",
     "text": [
      "Generated text: yoisaki kanade, 25-ji, night code de., 1girl, nipples, frills, cum in pussy, flat chest, film grain, hands, legs up, long hair, looking at viewer, medium hair, off-shoulder dress, open mouth, pussy juice, small breasts, smile, spread legs, underwear, white legwear, solo, white dress, wide-eyed, window, white panties, wooden floor, yellow eyes, indoors, yellow flower, yellow ribbon, yellow hairband, recording, sundress, film strip, video camera, yellow rose, dress lift, viewfinder, torn clothes, thighs, white flower, x hair ornament, clothing cutout, recording\n"
     ]
    },
    {
     "name": "stderr",
     "output_type": "stream",
     "text": [
      "The attention mask and the pad token id were not set. As a consequence, you may observe unexpected behavior. Please pass your input's `attention_mask` to obtain reliable results.\n",
      "Setting `pad_token_id` to `eos_token_id`:50256 for open-end generation.\n"
     ]
    },
    {
     "name": "stdout",
     "output_type": "stream",
     "text": [
      "Get input: Character: [yoisaki kanade] | General: [1girl, solo, nipples, after sex, spread legs, cum in pussy, dress, film grain, flat chest, lace-trimmed legwear, long hair, lying, blue eyes, spread pussy, sweat, tears, thighhighs, white dress, blue hair, after sex, after vaginal, anus, bare shoulders, bed sheet, blood, blush, bow]\n",
      "Generated text: yoisaki kanade, 1girl, nipples, lying, solo, small breasts, bangs, cum in pussy, flat chest, very long hair, uncensored, cumdrip, indoors, no panties, mosaic censoring, blue eyes, detached sleeves, spread legs, sleeveless dress, dress pull, looking at viewer, clothes pull, r-18, project sekai, bed sheet, clothes lift, dress lift, film grain, hair spread out, hetero, on side, ribbon, white legwear, wide sleeves, yellow bow, yellow dress, yellow skirt, yellow ribbon, window shade, yellow theme, yellow sleeves, yellow thighhighs, yellow thighhighs\n"
     ]
    },
    {
     "name": "stderr",
     "output_type": "stream",
     "text": [
      "The attention mask and the pad token id were not set. As a consequence, you may observe unexpected behavior. Please pass your input's `attention_mask` to obtain reliable results.\n",
      "Setting `pad_token_id` to `eos_token_id`:50256 for open-end generation.\n"
     ]
    },
    {
     "name": "stdout",
     "output_type": "stream",
     "text": [
      "Generated text: yoisaki kanade, 1girl, nipples, cum in pussy, long hair, looking at viewer, bangs, solo, spread legs, film grain, flat chest, cumdrip, collarbone, crying, dress pull, cum on body, lying, no panties, on back, black hair, cum on legs, frilled pillow, frills, cum string, small breasts, open mouth, censored, black choker, r-18, project sekai, 25-ji, night code de., arms up, black dress, cleavage, cum overflow, drooling, hair in own mouth, lace-trimmed legwear, parted lips, ribbon choker, short hair, sleeves past wrists\n"
     ]
    },
    {
     "name": "stderr",
     "output_type": "stream",
     "text": [
      "The attention mask and the pad token id were not set. As a consequence, you may observe unexpected behavior. Please pass your input's `attention_mask` to obtain reliable results.\n",
      "Setting `pad_token_id` to `eos_token_id`:50256 for open-end generation.\n"
     ]
    },
    {
     "name": "stdout",
     "output_type": "stream",
     "text": [
      "Get input: Character: [yoisaki kanade] | General: [1girl, solo, nipples, after sex, spread legs, cum in pussy, dress, film grain, flat chest, lace-trimmed legwear, long hair, lying, blue eyes, spread pussy, sweat, tears, thighhighs, white dress, blue hair, after sex, after vaginal, anus, bare shoulders, bed sheet, blood, blush, bow]\n",
      "Generated text: yoisaki kanade, 1girl, solo, censored, cum in pussy, spread pussy, cumdrip, long hair, recording, open mouth, mosaic censoring, on back, viewfinder, lying, white legwear, ahoge, legs up, bangs, lace-trimmed legwear, frills, no panties, black bow, nipples, flat chest, dress pull, black collar, recording, detached sleeves, r-18, project sekai, film grain, on bed, pillow, recording\n"
     ]
    },
    {
     "name": "stderr",
     "output_type": "stream",
     "text": [
      "The attention mask and the pad token id were not set. As a consequence, you may observe unexpected behavior. Please pass your input's `attention_mask` to obtain reliable results.\n",
      "Setting `pad_token_id` to `eos_token_id`:50256 for open-end generation.\n"
     ]
    },
    {
     "name": "stdout",
     "output_type": "stream",
     "text": [
      "Generated text: yoisaki kanade, 1girl, censored, solo, small breasts, legs up, nipples, cum in pussy, very long hair, spread legs, white legwear, flat chest, lace-trimmed legwear, detached sleeves, on back, mosaic censoring, silver hair, dress pull, open mouth, parted lips, photo (object), clothes pull, bangs, recording, r-18, creampie, project sekai, after the drip, bed sheet, black dress, black sleeves, blue eyes, from below, looking at viewer, microphone, on bed, photo (medium), recording, sleeveless dress, spaghetti strap, stained sheets, sweat, tearing up, traditional media\n"
     ]
    },
    {
     "name": "stderr",
     "output_type": "stream",
     "text": [
      "The attention mask and the pad token id were not set. As a consequence, you may observe unexpected behavior. Please pass your input's `attention_mask` to obtain reliable results.\n",
      "Setting `pad_token_id` to `eos_token_id`:50256 for open-end generation.\n"
     ]
    },
    {
     "name": "stdout",
     "output_type": "stream",
     "text": [
      "Generated text: yoisaki kanade, 1girl, nipples, long hair, cum in pussy, solo, spread legs, flat chest, sitting, cumdrip, dress pull, on back, bangs, looking at viewer, small breasts, film grain, collarbone, lace-trimmed legwear, uncensored, thighs, blue eyes, 1boy, parted lips, r-18, project sekai, lying, white choker\n"
     ]
    },
    {
     "name": "stderr",
     "output_type": "stream",
     "text": [
      "The attention mask and the pad token id were not set. As a consequence, you may observe unexpected behavior. Please pass your input's `attention_mask` to obtain reliable results.\n",
      "Setting `pad_token_id` to `eos_token_id`:50256 for open-end generation.\n"
     ]
    },
    {
     "name": "stdout",
     "output_type": "stream",
     "text": [
      "Generated text: yoisaki kanade, 1girl, cum in pussy, nipples, lying, censored, flat chest, solo, spread pussy, mosaic censoring, on back, cumdrip, no panties, defloration, pillow, looking at viewer, small breasts, clothes lift, spread legs, dress lift, white legwear, hair ribbon, blue eyes, black hairband, lace-trimmed legwear, black ribbon, detached sleeves, r-18, project sekai, film grain\n"
     ]
    },
    {
     "name": "stderr",
     "output_type": "stream",
     "text": [
      "The attention mask and the pad token id were not set. As a consequence, you may observe unexpected behavior. Please pass your input's `attention_mask` to obtain reliable results.\n",
      "Setting `pad_token_id` to `eos_token_id`:50256 for open-end generation.\n"
     ]
    },
    {
     "name": "stdout",
     "output_type": "stream",
     "text": [
      "Get input: Character: [yoisaki kanade] | General: [1girl, solo, nipples, after sex, spread legs, cum in pussy, dress, film grain, flat chest, lace-trimmed legwear, long hair, lying, blue eyes, spread pussy, sweat, tears, thighhighs, white dress, blue hair, after sex, after vaginal, anus, bare shoulders, bed sheet, blood, blush, bow]\n",
      "Generated text: yoisaki kanade, 1girl, lying, nipples, cum in pussy, censored, cumdrip, spread legs, looking at viewer, blue eyes, solo, open mouth, hair ornament, bangs, flat chest, breasts, mosaic censoring, detached sleeves, frilled sleeves, r-18, vocaloid, lace-trimmed legwear, long hair, naked sheet, out of frame, recording, short hair, see-through, see-through dress, viewfinder, white dress, white legwear, x-ray film, film grain\n"
     ]
    },
    {
     "name": "stderr",
     "output_type": "stream",
     "text": [
      "The attention mask and the pad token id were not set. As a consequence, you may observe unexpected behavior. Please pass your input's `attention_mask` to obtain reliable results.\n",
      "Setting `pad_token_id` to `eos_token_id`:50256 for open-end generation.\n"
     ]
    },
    {
     "name": "stdout",
     "output_type": "stream",
     "text": [
      "Generated text: yoisaki kanade, 1girl, torn clothes, cumdrip, cum in pussy, pillow, solo focus, cum string, nipples, dress lift, spread legs, torn legwear, flat chest, black legwear, blue eyes, film grain, no panties, lying, black hair, lace-trimmed legwear, on bed, long hair, 1boy, censored, r-18, project sekai, creampie, heavenly ass, on stomach, short hair\n"
     ]
    },
    {
     "name": "stderr",
     "output_type": "stream",
     "text": [
      "The attention mask and the pad token id were not set. As a consequence, you may observe unexpected behavior. Please pass your input's `attention_mask` to obtain reliable results.\n",
      "Setting `pad_token_id` to `eos_token_id`:50256 for open-end generation.\n"
     ]
    },
    {
     "name": "stdout",
     "output_type": "stream",
     "text": [
      "Generated text: yoisaki kanade, 1girl, cum in pussy, solo, long hair, lying, spread legs, black legwear, flat chest, implied sex, nipples, looking at viewer, lace-trimmed legwear, on back, film grain, recording, recording, recording, r-18, project sekai, afterwards, blood stain, cumdrip, cum pool, frilled dress, legs up, no panties, open mouth, sleeveless dress, twintails, thighs, wavy mouth, white camisole, white ribbon, wide-eyed, worried, wooden floor, zettai ryouiki, wooden table, x hair ornament, wings, worried emoji, wings through clothes\n"
     ]
    },
    {
     "name": "stderr",
     "output_type": "stream",
     "text": [
      "The attention mask and the pad token id were not set. As a consequence, you may observe unexpected behavior. Please pass your input's `attention_mask` to obtain reliable results.\n",
      "Setting `pad_token_id` to `eos_token_id`:50256 for open-end generation.\n"
     ]
    },
    {
     "name": "stdout",
     "output_type": "stream",
     "text": [
      "Generated text: yoisaki kanade, 1girl, blue eyes, hetero, cum in pussy, censored, nipples, solo focus, 1boy, cumdrip, small breasts, mosaic censoring, short hair, looking at viewer, flat chest, black hair, spread legs, cum string, on bed, recording, r-18, project sekai, after the drip, cum on body, dress pull, dress lift, cum on clothes, dress pull, hair ribbon, long hair, lying, open mouth, red ribbon, saliva trail, sidelocks, sitting on person, video camera, viewfinder, white legwear, vaginal object insertion, voyeurism, video camera, white ribbon, x-ray\n"
     ]
    },
    {
     "name": "stderr",
     "output_type": "stream",
     "text": [
      "The attention mask and the pad token id were not set. As a consequence, you may observe unexpected behavior. Please pass your input's `attention_mask` to obtain reliable results.\n",
      "Setting `pad_token_id` to `eos_token_id`:50256 for open-end generation.\n"
     ]
    },
    {
     "name": "stdout",
     "output_type": "stream",
     "text": [
      "Get input: Character: [yoisaki kanade] | General: [1girl, solo, nipples, bdsm, blindfolf, collar, after sex, spread legs, cum in pussy, dress, film grain, flat chest, lace-trimmed legwear, long hair, lying, blue eyes, spread pussy, sweat, tears, thighhighs, white dress, blue hair, after sex, after vaginal, anus, bare shoulders, bed sheet, blood, blush, bow]\n",
      "Generated text: yoisaki kanade, blindfold, blindfold, 1girl, bdsm, cum in pussy, collar, bondage, hetero, leash pull, solo, lying, flat chest, nipples, cumdrip, multiple girls, viewer holding leash, r-18, creampie, after the drip, blindfold rod, blindfolf, dress pull, facing viewer, hand up, saliva trail, spread legs, striped, striped dress, underwear, uncensored, white legwear, vaginal object insertion, zipper pull tab, yuri\n"
     ]
    },
    {
     "name": "stderr",
     "output_type": "stream",
     "text": [
      "The attention mask and the pad token id were not set. As a consequence, you may observe unexpected behavior. Please pass your input's `attention_mask` to obtain reliable results.\n",
      "Setting `pad_token_id` to `eos_token_id`:50256 for open-end generation.\n"
     ]
    },
    {
     "name": "stdout",
     "output_type": "stream",
     "text": [
      "Generated text: yoisaki kanade, blindfolf, yoru ni kakeru, blindfold, bdsm, collar, cum in pussy, cumdrip, flat chest, spread legs, 1girl, pussy juice, 1boy, solo focus, on stomach, recording, restrained, short hair, lying, viewfinder, nipples, recording, shackles, sex machine, small breasts, strapless dress, underwear, white panties, white garter belt, braid, choker, r-18, blindfold, bdsm#, creampie, bondage, cum overflow, dress pull, strap slip, torn clothes, torn dress, uterus\n"
     ]
    },
    {
     "name": "stderr",
     "output_type": "stream",
     "text": [
      "The attention mask and the pad token id were not set. As a consequence, you may observe unexpected behavior. Please pass your input's `attention_mask` to obtain reliable results.\n",
      "Setting `pad_token_id` to `eos_token_id`:50256 for open-end generation.\n"
     ]
    },
    {
     "name": "stdout",
     "output_type": "stream",
     "text": [
      "Generated text: yoisaki kanade, blindfold, bdsm, 1girl, bondage, long hair, collar, looking at viewer, flat chest, cum in pussy, solo focus, 1boy, braid, bangs, on back, open mouth, dress pull, spread legs, arms up, armpits, cumdrip, white legwear, nipples, censored, cum string, lying, restrained, r-18, blindfolf, yoisaki kanade, 25-ji, night code de., flat chested, eyepatch, grey dress, parted lips, short dress, small breasts, spaghetti strap, thigh grab, tongue out, tongue\n"
     ]
    },
    {
     "name": "stderr",
     "output_type": "stream",
     "text": [
      "The attention mask and the pad token id were not set. As a consequence, you may observe unexpected behavior. Please pass your input's `attention_mask` to obtain reliable results.\n",
      "Setting `pad_token_id` to `eos_token_id`:50256 for open-end generation.\n"
     ]
    },
    {
     "name": "stdout",
     "output_type": "stream",
     "text": [
      "Generated text: yoisaki kanade, blindfolf, bdsm, 2girls, 1girl, braid, black dress, blindfold, blue ribbon, blindfold lift, chain, blindfold slip, collar, cumdrip, cum in pussy, hair ribbon, holding leash, lace-trimmed legwear, multiple girls, nipples, solo, strapless dress, very long hair, white blindfold, white ribbon, white dress, virtual youtuber, flat chest, wariza, sitting, bangs, dress lift, spread legs, bound, r-18, vocaloid, photo (object), cum on pussy, cum pool\n"
     ]
    },
    {
     "name": "stderr",
     "output_type": "stream",
     "text": [
      "The attention mask and the pad token id were not set. As a consequence, you may observe unexpected behavior. Please pass your input's `attention_mask` to obtain reliable results.\n",
      "Setting `pad_token_id` to `eos_token_id`:50256 for open-end generation.\n"
     ]
    },
    {
     "name": "stdout",
     "output_type": "stream",
     "text": [
      "Get input: Character: [yoisaki kanade] | General: [1girl, solo, nipples, bdsm, blindfolf, collar, after sex, spread legs, cum in pussy, dress, film grain, flat chest, lace-trimmed legwear, long hair, lying, blue eyes, spread pussy, sweat, tears, thighhighs, white dress, blue hair, after sex, after vaginal, anus, bare shoulders, bed sheet, blood, blush, bow]\n",
      "Generated text: yoisaki kanade, blindfolf, bdsm, b0rn-t0-die, bondage, 2girls, 1girl, cumdrip, cum in pussy, censored, chain, collar, cum pool, cum on body, solo focus, braid, mosaic censoring, multiple girls, bangs, no panties, lying, 1boy, leash pull, holding leash, blindfold, black blindfold, blindfold lift, black choker, dress pull, ejaculation, flat chest, eyepatch, hetero, hair over one eye, r-18, bangtail, blindfold slip, cum overflow, pussy juice, restrained\n"
     ]
    },
    {
     "name": "stderr",
     "output_type": "stream",
     "text": [
      "The attention mask and the pad token id were not set. As a consequence, you may observe unexpected behavior. Please pass your input's `attention_mask` to obtain reliable results.\n",
      "Setting `pad_token_id` to `eos_token_id`:50256 for open-end generation.\n"
     ]
    },
    {
     "name": "stdout",
     "output_type": "stream",
     "text": [
      "Generated text: yoisaki kanade, blindfold, bdsm, 1girl, bound, nipples, multiple girls, cum in pussy, flat chest, bondage, solo, cumdrip, collar, spread legs, black collar, 2girls, r-18, blindfolf, project sekai, covering own eyes, cum overflow, film grain, grabbing another's breast, implied rape, lying\n"
     ]
    },
    {
     "name": "stderr",
     "output_type": "stream",
     "text": [
      "The attention mask and the pad token id were not set. As a consequence, you may observe unexpected behavior. Please pass your input's `attention_mask` to obtain reliable results.\n",
      "Setting `pad_token_id` to `eos_token_id`:50256 for open-end generation.\n"
     ]
    },
    {
     "name": "stdout",
     "output_type": "stream",
     "text": [
      "Generated text: yoisaki kanade, blindfolf, blindfold, bdsm, 1girl, blindfold rod, wearing only knee-high socks, kneesocks, bondage, blindfold slip, blindfold around neck, blue eyes, braided bangs, censored, cum in pussy, cumdrip, covered eyes, crying, detached sleeves, frilled sleeves, hair bow, humiliation, hetero, maid, medium hair, lying, open mouth, nipples, solo, spread legs, tail wagging, underwear, white footwear, white legwear, white panties, x-ray, worried, yaoi, wrist cuffs, yuri, yellow ribbon\n"
     ]
    },
    {
     "name": "stderr",
     "output_type": "stream",
     "text": [
      "The attention mask and the pad token id were not set. As a consequence, you may observe unexpected behavior. Please pass your input's `attention_mask` to obtain reliable results.\n",
      "Setting `pad_token_id` to `eos_token_id`:50256 for open-end generation.\n"
     ]
    },
    {
     "name": "stdout",
     "output_type": "stream",
     "text": [
      "Generated text: yoisaki kanade, blindfold, 1girl, cum in pussy, nipples, bangs, solo, bdsm, choker, spread legs, open mouth, black collar, collar, long hair, lying, dress pull, cumdrip, flat chest, r-18, blindfolf, blue ribbon, clothes pull, cum overflow, crying, empty eyes, implied yuri, pillow, saliva, strapless dress, trembling, video camera, white blindfold, white theme\n"
     ]
    },
    {
     "name": "stderr",
     "output_type": "stream",
     "text": [
      "The attention mask and the pad token id were not set. As a consequence, you may observe unexpected behavior. Please pass your input's `attention_mask` to obtain reliable results.\n",
      "Setting `pad_token_id` to `eos_token_id`:50256 for open-end generation.\n"
     ]
    },
    {
     "name": "stdout",
     "output_type": "stream",
     "text": [
      "Get input: Character: [] | General: [1girl]\n",
      "Generated text: 1girl, red eyes, black hair, large breasts, white gloves, looking at viewer, cleavage, garter straps, black legwear, covered navel, peaked cap, skindentation, sitting, bare shoulders, black leotard, bangs, white headwear, indoors, curtains, arm up, very long hair, parted lips, strapless leotard, highleg leotard, on couch, collarbone, hand on headwear, window, arm behind head, black thighhighs, first-rate breasts, sexy clothes, ai illustration\n"
     ]
    },
    {
     "name": "stderr",
     "output_type": "stream",
     "text": [
      "Traceback (most recent call last):\n",
      "  File \"/home/ubuntu/miniconda3/lib/python3.10/site-packages/gradio/queueing.py\", line 532, in process_events\n",
      "    response = await route_utils.call_process_api(\n",
      "  File \"/home/ubuntu/miniconda3/lib/python3.10/site-packages/gradio/route_utils.py\", line 276, in call_process_api\n",
      "    output = await app.get_blocks().process_api(\n",
      "  File \"/home/ubuntu/miniconda3/lib/python3.10/site-packages/gradio/blocks.py\", line 1928, in process_api\n",
      "    result = await self.call_function(\n",
      "  File \"/home/ubuntu/miniconda3/lib/python3.10/site-packages/gradio/blocks.py\", line 1514, in call_function\n",
      "    prediction = await anyio.to_thread.run_sync(\n",
      "  File \"/home/ubuntu/miniconda3/lib/python3.10/site-packages/anyio/to_thread.py\", line 33, in run_sync\n",
      "    return await get_asynclib().run_sync_in_worker_thread(\n",
      "  File \"/home/ubuntu/miniconda3/lib/python3.10/site-packages/anyio/_backends/_asyncio.py\", line 877, in run_sync_in_worker_thread\n",
      "    return await future\n",
      "  File \"/home/ubuntu/miniconda3/lib/python3.10/site-packages/anyio/_backends/_asyncio.py\", line 807, in run\n",
      "    result = context.run(func, *args)\n",
      "  File \"/home/ubuntu/miniconda3/lib/python3.10/site-packages/gradio/utils.py\", line 832, in wrapper\n",
      "    response = f(*args, **kwargs)\n",
      "  File \"/tmp/ipykernel_135725/2940801976.py\", line 65, in gen_text_and_gen_image_default\n",
      "    text, img = gen_text_and_gen_image(rating, date, quality, chara, general, max_length= 220,\n",
      "  File \"/tmp/ipykernel_135725/2940801976.py\", line 49, in gen_text_and_gen_image\n",
      "    _gend_images = image_future.result()\n",
      "  File \"/home/ubuntu/miniconda3/lib/python3.10/concurrent/futures/_base.py\", line 458, in result\n",
      "    return self.__get_result()\n",
      "  File \"/home/ubuntu/miniconda3/lib/python3.10/concurrent/futures/_base.py\", line 403, in __get_result\n",
      "    raise self._exception\n",
      "  File \"/home/ubuntu/miniconda3/lib/python3.10/concurrent/futures/thread.py\", line 58, in run\n",
      "    result = self.fn(*self.args, **self.kwargs)\n",
      "  File \"/home/ubuntu/dev/prompt-upscaler-gpt2/run_comfy_api.py\", line 160, in run_workflow\n",
      "    workflow_result = executor.run_workflow(workflow)\n",
      "  File \"/home/ubuntu/dev/prompt-upscaler-gpt2/run_comfy_api.py\", line 71, in run_workflow\n",
      "    ws.connect(f\"ws://{self.server_address}/ws?clientId={self.client_id}\")\n",
      "  File \"/home/ubuntu/miniconda3/lib/python3.10/site-packages/websocket/_core.py\", line 255, in connect\n",
      "    self.handshake_response = handshake(self.sock, url, *addrs, **options)\n",
      "  File \"/home/ubuntu/miniconda3/lib/python3.10/site-packages/websocket/_handshake.py\", line 57, in handshake\n",
      "    status, resp = _get_resp_headers(sock)\n",
      "  File \"/home/ubuntu/miniconda3/lib/python3.10/site-packages/websocket/_handshake.py\", line 143, in _get_resp_headers\n",
      "    status, resp_headers, status_message = read_headers(sock)\n",
      "  File \"/home/ubuntu/miniconda3/lib/python3.10/site-packages/websocket/_http.py\", line 316, in read_headers\n",
      "    line = recv_line(sock)\n",
      "  File \"/home/ubuntu/miniconda3/lib/python3.10/site-packages/websocket/_socket.py\", line 133, in recv_line\n",
      "    c = recv(sock, 1)\n",
      "  File \"/home/ubuntu/miniconda3/lib/python3.10/site-packages/websocket/_socket.py\", line 110, in recv\n",
      "    bytes_ = _recv()\n",
      "  File \"/home/ubuntu/miniconda3/lib/python3.10/site-packages/websocket/_socket.py\", line 89, in _recv\n",
      "    return sock.recv(bufsize)\n",
      "ConnectionResetError: [Errno 104] Connection reset by peer\n"
     ]
    }
   ],
   "source": [
    "from typing import List, Tuple\n",
    "from concurrent.futures import ThreadPoolExecutor\n",
    "from run_comfy_api import run_workflow, DEFAULT_NEG\n",
    "\n",
    "import os\n",
    "HARDCODED_MODEL_NAME = os.path.basename(os.path.normpath(MODEL_DIRS[0]))\n",
    "\n",
    "\n",
    "# LONG_DEFAULT_TAG_STR_END = \"good quality, highres, 2020s, aesthetic, absurdres, [best quality]\"\n",
    "\n",
    "LONG_DEFAULT_TAG_STR_END = \"2020s\"\n",
    "\n",
    "# LONG_DEFAULT_NEG = \"nsfw, lowres, (bad), error, fewer, extra, missing, worst quality, jpeg artifacts, bad quality, watermark, unfinished, displeasing, chromatic aberration, signature, extra digits, artistic error, average, username, scan, [abstract]\"\n",
    "\n",
    "LONG_DEFAULT_NEG = DEFAULT_NEG + \", chromatic aberration, signature, extra digits, artistic error, scan, [abstract]\"\n",
    "\n",
    "\n",
    "# USE_MODEL = \"bxl-v4c-stepfix/checkpoint-e11_s38000.safetensors\"\n",
    "USE_MODEL = \"yada_checkpoints/qft_v4c_z3zz4_32_d16_sched/checkpoint-e83_s2000.safetensors\"\n",
    "\n",
    "def gen_text_and_gen_image(rating: str, date: str, quality: str, character: str, prompt: str, max_length: int, \n",
    "                           img_count: int, seed: int, tags_front: str, tags_back: str, augment_input: bool) -> Tuple[str, List[str]]:\n",
    "    \n",
    "    gend_text = []\n",
    "    gend_images = []\n",
    "\n",
    "    orig_input = f\"Character: [{character}] | General: [{prompt}]\"\n",
    "    print(f\"Get input: {orig_input}\")\n",
    "\n",
    "    with ThreadPoolExecutor() as executor:\n",
    "        for _ in range(img_count):\n",
    "            if augment_input:\n",
    "                prompt = augment_prompt(character, prompt, idf_dict)\n",
    "                text_future = executor.submit(generate_text, rating, date, quality, character, prompt, max_length, 1)\n",
    "                txt = text_future.result().split(\"\\n\")[0]\n",
    "                print(f\"Generated text: {txt}\")\n",
    "            else:\n",
    "                txt = safe_concat([character, prompt])\n",
    "                print(f\"Using original input: {txt}\")\n",
    "\n",
    "            # Add quality tags\n",
    "            txt = safe_concat([tags_front, txt, tags_back])\n",
    "            gend_text.append(txt)\n",
    "\n",
    "            image_future = executor.submit(run_workflow, pos=txt, \n",
    "                                           model = USE_MODEL,\n",
    "                                           neg=LONG_DEFAULT_NEG,\n",
    "                                           seed=seed, batch_size=1)\n",
    "            _gend_images = image_future.result()\n",
    "            gend_images.extend(_gend_images)\n",
    "\n",
    "    # Save images and metadata in the background\n",
    "    with ThreadPoolExecutor() as executor:\n",
    "        executor.submit(save_images_and_metadata, gend_images, gend_text, orig_input)\n",
    "    \n",
    "    return \"\\n\\n\".join(gend_text), gend_images\n",
    "    \n",
    "\n",
    "# Wrapper function for the default tab with preset parameters\n",
    "def gen_text_and_gen_image_default(rating, prompt, num_images, augment_input):\n",
    "    date = \"2020s\"\n",
    "    quality = \"excellent\"\n",
    "    \n",
    "    chara, general = split_chara_and_gneral(prompt)\n",
    "    text, img = gen_text_and_gen_image(rating, date, quality, chara, general, max_length= 220, \n",
    "                                  img_count=num_images, seed=-1, tags_front=\"good quality\", tags_back=\"best quality, 2020s\",\n",
    "                                  augment_input=augment_input,\n",
    "                                  )\n",
    "    return img, text\n",
    "\n",
    "# Define Gradio interface components for the advanced tab\n",
    "import os\n",
    "checkbox_choices = [os.path.basename(os.path.normpath(model_dir)) for model_dir in MODEL_DIRS]\n",
    "\n",
    "advanced_inputs = [\n",
    "    gr.Radio(choices=[\"general\", \"nsfw\"], label=\"Rating\", value=\"general\"),\n",
    "    gr.Radio(choices=[\"2000s\", \"2010s\", \"2020s\"], label=\"Date\", value=\"2020s\"),\n",
    "    gr.Radio(choices=[\"normal\", \"good\", \"excellent\"], label=\"Quality\", value=\"excellent\"),\n",
    "    gr.Textbox(lines=1, placeholder=\"hatsune miku\", label=\"Character tags\", autofocus=True),\n",
    "    gr.Textbox(lines=2, placeholder=\"1girl, long hair, looking at viewer\", label=\"General Tags\", autofocus=True),\n",
    "    gr.Slider(minimum=40, maximum=300, value=220, step=10, label=\"Max Prompt Length\"),\n",
    "    gr.Slider(minimum=1, maximum=4, value=2, step=1, label=\"Image Generation Count\"),\n",
    "    gr.Number(value=-1, label=\"Image Generation Seed\"),\n",
    "    gr.Textbox(lines=1, value=\"good quality\", label=\"tags_front\"),\n",
    "    gr.Textbox(lines=1, value=\"best quality, 2020s\", label=\"tags_back\"),\n",
    "    gr.Checkbox(label=\"Augment input\", value=True),\n",
    "]\n",
    "\n",
    "advanced_outputs = [\n",
    "    gr.Textbox(label=\"Generated Texts\"),\n",
    "    gr.Gallery(label=\"Generated Images\", height=768),\n",
    "]\n",
    "\n",
    "# Define Gradio interface components for the default tab\n",
    "default_inputs = [\n",
    "    gr.Radio(choices=[\"general\", \"nsfw\"], label=\"Rating\", value=\"general\"),\n",
    "    # gr.Textbox(lines=1, placeholder=\"hatsune miku\", label=\"Character tags\"),\n",
    "    gr.Textbox(lines=3, placeholder=\"hatsune miku, 1girl, short hair, eating\", label=\"Character and General Tags  (Auto-detection supports *exact* danbooru tags for now)\", autofocus=True),\n",
    "    gr.Slider(minimum=1, maximum=8, value=2, step=1, label=\"Image Generation Count\"),\n",
    "    gr.Checkbox(label=\"Augment input\", value=True),\n",
    "]\n",
    "\n",
    "default_outputs = [\n",
    "    gr.Gallery(label=\"Generated Images\", height=512),\n",
    "    gr.Textbox(label=\"Generated Texts\"),\n",
    "]\n",
    "\n",
    "# Define the interface with two tabs\n",
    "iface = gr.TabbedInterface(\n",
    "    [\n",
    "        gr.Interface(\n",
    "            fn=gen_text_and_gen_image_default,\n",
    "            inputs=default_inputs,\n",
    "            outputs=default_outputs,\n",
    "            title=f\"Default\",\n",
    "            description=f\"Simple interface with preset values. (Shift+Enter to run) \\n\\nusing model: {USE_MODEL}\",\n",
    "        ),\n",
    "        gr.Interface(\n",
    "            fn=gen_text_and_gen_image,\n",
    "            inputs=advanced_inputs,\n",
    "            outputs=advanced_outputs,\n",
    "            title=f\"Advanced\",\n",
    "            description=f\"Advanced interface with customizable parameters. (Shift+Enter to run)\\n\\nusing model: {USE_MODEL}\",\n",
    "        ),\n",
    "    ],\n",
    "    [\"Default\", \"Advanced\"],\n",
    "    title=\"\"\"\n",
    "\n",
    "# Prompt Augment and SDXL New Model Demo\n",
    "    \n",
    "Pipeline:\n",
    "  - input some danbooru tags (or danbooru-like tags)\n",
    "  - augment the input to match the model training distribution\n",
    "  - generate images from the augmented input (by calling ComfyUI API)\n",
    "  - receives output\n",
    "\n",
    "Input tags is in danbooru format (or similar): \n",
    "  - see: https://danbooru.donmai.us/posts/7792929\n",
    "\n",
    "**Use The \"Advanced\" Tab for more granular controls**\n",
    "\n",
    "\"\"\"\n",
    ")\n",
    "\n",
    "# Launch the interface\n",
    "iface.launch(share=True, server_port=9876)"
   ]
  }
 ],
 "metadata": {
  "kernelspec": {
   "display_name": "Python 3 (ipykernel)",
   "language": "python",
   "name": "python3"
  },
  "language_info": {
   "codemirror_mode": {
    "name": "ipython",
    "version": 3
   },
   "file_extension": ".py",
   "mimetype": "text/x-python",
   "name": "python",
   "nbconvert_exporter": "python",
   "pygments_lexer": "ipython3",
   "version": "3.10.13"
  }
 },
 "nbformat": 4,
 "nbformat_minor": 4
}
