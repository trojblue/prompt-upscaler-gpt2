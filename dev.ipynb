{
 "cells": [
  {
   "cell_type": "code",
   "execution_count": 1,
   "metadata": {},
   "outputs": [
    {
     "name": "stdout",
     "output_type": "stream",
     "text": [
      "2024-04-25 11:35:00 1117422215 artists_tags_idf.json\n",
      "2024-04-25 11:33:41  761062210 character_tags_idf.json\n"
     ]
    }
   ],
   "source": [
    "!aws s3 ls "
   ]
  },
  {
   "cell_type": "code",
   "execution_count": 6,
   "metadata": {},
   "outputs": [
    {
     "name": "stderr",
     "output_type": "stream",
     "text": [
      "2024-07-01 01:17:54,037 [INFO] UniLogger: UniLoader.loads: .json LOADED from \"/tmp/tmpe7eearaq/character_tags_idf.json\" in 6.71s\n"
     ]
    }
   ],
   "source": [
    "import unibox as ub\n",
    "\n",
    "\n",
    "idf_dict = ub.loads(\"s3://unidataset-danbooru/metadata/related_tags/idf/character_tags_idf.json\")"
   ]
  },
  {
   "cell_type": "code",
   "execution_count": 8,
   "metadata": {},
   "outputs": [
    {
     "data": {
      "text/plain": [
       "[{'tag': '25-ji_miku', 'idf': 9.97},\n",
       " {'tag': 'shinonome_ena', 'idf': 9.64},\n",
       " {'tag': '25-ji_nightcord_de._(project_sekai)', 'idf': 9.57},\n",
       " {'tag': 'akiyama_mizuki', 'idf': 9.5},\n",
       " {'tag': 'asahina_mafuyu', 'idf': 9.33},\n",
       " {'tag': 'sorimachi-doufu', 'idf': 9.23},\n",
       " {'tag': 'project_sekai', 'idf': 7.34},\n",
       " {'tag': 'double-parted_bangs', 'idf': 6.66},\n",
       " {'tag': 'hatsune_miku', 'idf': 5.53},\n",
       " {'tag': 'red_neckerchief', 'idf': 5.33},\n",
       " {'tag': 'light_blue_hair', 'idf': 5.14},\n",
       " {'tag': 'track_jacket', 'idf': 5.03},\n",
       " {'tag': 'vocaloid', 'idf': 4.98},\n",
       " {'tag': 'cardigan', 'idf': 4.29},\n",
       " {'tag': '1other', 'idf': 4.06},\n",
       " {'tag': 'blue_jacket', 'idf': 3.88},\n",
       " {'tag': 'neckerchief', 'idf': 3.8},\n",
       " {'tag': 'headphones', 'idf': 3.72},\n",
       " {'tag': 'expressionless', 'idf': 3.69},\n",
       " {'tag': 'sleeves_past_wrists', 'idf': 3.53},\n",
       " {'tag': 'side_ponytail', 'idf': 3.36},\n",
       " {'tag': 'hoodie', 'idf': 3.28},\n",
       " {'tag': 'sailor_collar', 'idf': 3.26},\n",
       " {'tag': 'black_shirt', 'idf': 3.03},\n",
       " {'tag': 'official_alternate_costume', 'idf': 2.98},\n",
       " {'tag': 'open_jacket', 'idf': 2.96},\n",
       " {'tag': 'puffy_sleeves', 'idf': 2.74},\n",
       " {'tag': 'pink_eyes', 'idf': 2.58},\n",
       " {'tag': 'hand_up', 'idf': 2.51},\n",
       " {'tag': 'collared_shirt', 'idf': 2.33}]"
      ]
     },
     "execution_count": 8,
     "metadata": {},
     "output_type": "execute_result"
    }
   ],
   "source": [
    "\"\"\"\n",
    "idf_dict[\"yoisaki_kanade\"]\n",
    " {'tag': 'headphones', 'idf': 3.72},\n",
    " {'tag': 'expressionless', 'idf': 3.69},\n",
    " {'tag': 'sleeves_past_wrists', 'idf': 3.53},\n",
    " {'tag': 'side_ponytail', 'idf': 3.36},\n",
    "\n",
    "\n",
    " idf_dict[\"hatsune_miku\"]\n",
    " {'tag': 'headphones', 'idf': 3.72},\n",
    " {'tag': 'thigh_boots', 'idf': 3.6},\n",
    " {'tag': 'aqua_hair', 'idf': 3.56},\n",
    "\n",
    "\"\"\"\n",
    "\n",
    "idf_dict[\"yoisaki_kanade\"][:30]"
   ]
  },
  {
   "cell_type": "code",
   "execution_count": 23,
   "metadata": {},
   "outputs": [
    {
     "data": {
      "text/plain": [
       "{'metadata': {'len': 214681,\n",
       "  'value_types': {'str': 214681},\n",
       "  'is_nested': False},\n",
       " 'preview': [('astraea_(sora_no_otoshimono)',\n",
       "   'mitsuki_sohara, ikaros, nymph_(sora_no_otoshimono), sakurai_tomoki, sora_no_otoshimono, watanabe_yoshihiro, metal_collar, robot_ears, breast_hold, white_wings, low-tied_long_hair, imageboard_desourced, covering_privates, angel, head_wings, angel_wings, feathered_wings, shiny_skin, chain'),\n",
       "  ('kuyou_sarasa',\n",
       "   'yashiro_tsubasa, kiss_to_lord_to_darjeeling, naked_capelet, bandaid_on_pussy, star_of_david, mikeou, open_bra, library, crotch, hexagram, necktie_between_breasts, pantyhose_pull, cum_on_clothes, crotch_seam, thighband_pantyhose, bookshelf, dakimakura_(medium), cum_on_hair, panties_under_pantyhose, zoom_layer, white_bra, breast_hold, clothed_sex, cum_on_breasts, side-tie_panties, between_breasts, panty_pull, bad_link, cum_on_body, from_below, bandaid, underwear_only, clothes_pull, on_side, topless, pantyshot, lingerie, cross, wrist_cuffs, capelet, pussy_juice, maid_headdress'),\n",
       "  ('brigitte_abbendis',\n",
       "   'marjhan, demetria, sally_whitemane, l_axe, glowing_clothes, cleric, human_(warcraft), mage_staff, monk, war_hammer, wizard, world_of_warcraft, warcraft, vaginal_object_insertion, breast_sucking, bikini_armor, object_insertion, dildo, stitches, knight, dagger, high_heel_boots, sex_toy, axe, highleg, garter_straps, shield, knife, glowing_eyes, chain')]}"
      ]
     },
     "execution_count": 23,
     "metadata": {},
     "output_type": "execute_result"
    }
   ],
   "source": [
    "def convert_dict_structure(input_dict: dict, keep_thres: float) -> dict:\n",
    "    \"\"\"\n",
    "    converts to:\n",
    "    {\n",
    "      \"key\": [(\"tag\", \"idf\"), ...],\n",
    "    }\n",
    "    \"\"\"\n",
    "    result = {}\n",
    "    for key, value_list in input_dict.items():\n",
    "        filtered_list = [(entry['tag'], entry['idf']) for entry in value_list if entry['idf'] > keep_thres]\n",
    "        result[key] = filtered_list\n",
    "    return result\n",
    "\n",
    "\n",
    "def convert_dict_to_string(input_dict: dict, keep_thres: float) -> dict:\n",
    "    \"\"\"\n",
    "    converts to:\n",
    "    {\n",
    "      \"key\": \"tag1, tag2, tag3, ...\",\n",
    "    }\n",
    "    \"\"\"\n",
    "    result = {}\n",
    "    for key, value_list in input_dict.items():\n",
    "        filtered_tags = [entry['tag'] for entry in value_list if entry['idf'] > keep_thres]\n",
    "        result[key] = \", \".join(filtered_tags)\n",
    "    return result\n",
    "\n",
    "keep_thres = 3.5\n",
    "# converted_dict = convert_dict_structure(idf_dict, keep_thres)\n",
    "converted_dict = convert_dict_to_string(idf_dict, keep_thres)\n",
    "\n",
    "ub.peeks(converted_dict)"
   ]
  },
  {
   "cell_type": "code",
   "execution_count": 24,
   "metadata": {},
   "outputs": [
    {
     "name": "stderr",
     "output_type": "stream",
     "text": [
      "2024-07-01 01:24:33,025 [INFO] UniLogger: UniSaver.saves: dict saved successfully to \"s3://bucket-data-catalog/data_catalog/silver_mini/dset_danbooru_character_related_tags_idf_thres3.5.json\"\n"
     ]
    }
   ],
   "source": [
    "# replace key \n",
    "\n",
    "ub.saves(converted_dict, \"s3://bucket-data-catalog/data_catalog/silver_mini/dset_danbooru_character_related_tags_idf_thres3.5.json\")"
   ]
  },
  {
   "cell_type": "markdown",
   "metadata": {},
   "source": [
    "artist:"
   ]
  },
  {
   "cell_type": "code",
   "execution_count": 25,
   "metadata": {},
   "outputs": [
    {
     "name": "stderr",
     "output_type": "stream",
     "text": [
      "2024-07-01 02:03:51,617 [ERROR] UniLogger: UniLoader._load_from_s3: ❌ Error loading from S3 at \"s3://unidataset-danbooru/metadata/related_tags/idf/artist_tags_idf.json\": An error occurred (404) when calling the HeadObject operation: Not Found\n"
     ]
    }
   ],
   "source": [
    "idf_dict_artist = ub.loads(\"s3://unidataset-danbooru/metadata/related_tags/idf/artist_tags_idf.json\")"
   ]
  }
 ],
 "metadata": {
  "kernelspec": {
   "display_name": "base",
   "language": "python",
   "name": "python3"
  },
  "language_info": {
   "codemirror_mode": {
    "name": "ipython",
    "version": 3
   },
   "file_extension": ".py",
   "mimetype": "text/x-python",
   "name": "python",
   "nbconvert_exporter": "python",
   "pygments_lexer": "ipython3",
   "version": "3.10.13"
  }
 },
 "nbformat": 4,
 "nbformat_minor": 2
}
