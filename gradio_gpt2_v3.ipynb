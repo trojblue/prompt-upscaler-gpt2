{
 "cells": [
  {
   "cell_type": "markdown",
   "metadata": {},
   "source": [
    "## GPT V3\n",
    "\n",
    "单个模型(fixed), 直接对接到webui (生成很多个), 所以产生一行一个的结果"
   ]
  },
  {
   "cell_type": "code",
   "execution_count": 1,
   "metadata": {},
   "outputs": [
    {
     "name": "stdout",
     "output_type": "stream",
     "text": [
      "IMPORTANT: You are using gradio version 4.21.0, however version 4.29.0 is available, please upgrade.\n",
      "--------\n",
      "Running on local URL:  http://127.0.0.1:7861\n",
      "Running on public URL: https://aac5bc502401460215.gradio.live\n",
      "\n",
      "This share link expires in 72 hours. For free permanent hosting and GPU upgrades, run `gradio deploy` from Terminal to deploy to Spaces (https://huggingface.co/spaces)\n"
     ]
    },
    {
     "data": {
      "text/html": [
       "<div><iframe src=\"https://aac5bc502401460215.gradio.live\" width=\"100%\" height=\"500\" allow=\"autoplay; camera; microphone; clipboard-read; clipboard-write;\" frameborder=\"0\" allowfullscreen></iframe></div>"
      ],
      "text/plain": [
       "<IPython.core.display.HTML object>"
      ]
     },
     "metadata": {},
     "output_type": "display_data"
    },
    {
     "data": {
      "text/plain": []
     },
     "execution_count": 1,
     "metadata": {},
     "output_type": "execute_result"
    }
   ],
   "source": [
    "from tqdm.auto import tqdm\n",
    "import gradio as gr\n",
    "import transformers\n",
    "import torch\n",
    "import os\n",
    "\n",
    "\n",
    "# Assuming DEVICE is already defined\n",
    "DEVICE = 'cuda'  # Use 'cuda' for GPU or 'cpu' for CPU\n",
    "\n",
    "# Path to the models' directories\n",
    "MODEL_DIRS = [\n",
    "    'pixiv-prompts-gpt-finetunes/8xh100_run2_e2_s50k',\n",
    "]\n",
    "\n",
    "# Load models and tokenizers from directories\n",
    "models = {}\n",
    "tokenizers = {}\n",
    "for model_dir in MODEL_DIRS:\n",
    "    model_name = os.path.basename(os.path.normpath(model_dir))\n",
    "    models[model_name] = transformers.GPT2LMHeadModel.from_pretrained(model_dir).to(DEVICE)\n",
    "    tokenizers[model_name] = transformers.AutoTokenizer.from_pretrained(model_dir)\n",
    "\n",
    "def generate_text(rating: str, date: str, quality: str, character: str, prompt: str, max_length: int, num_lines: int, selected_models: list):\n",
    "    \"\"\"Generate text based on input prompt for selected models, managing multiple lines output.\"\"\"\n",
    "    query_prompt = f'<input rating=\"{rating}\" chara=\"{character}\" date=\"{date}\" quality=\"{quality}\" tags=\"{prompt}\">'\n",
    "    query_prompt += \"<output>\"\n",
    "\n",
    "    all_outputs = []\n",
    "    for model_name in selected_models:\n",
    "        model = models[model_name].eval()  # Set the model to evaluation mode\n",
    "        tokenizer = tokenizers[model_name]\n",
    "        for _ in tqdm(range(num_lines)):\n",
    "            input_ids = tokenizer.encode(query_prompt, return_tensors='pt').to(DEVICE)\n",
    "            output_sequences = model.generate(\n",
    "                input_ids=input_ids,\n",
    "                max_length=max_length + len(input_ids[0]),\n",
    "                temperature=1.0,\n",
    "                top_k=50,\n",
    "                top_p=0.95,\n",
    "                repetition_penalty=1.0,\n",
    "                do_sample=True,\n",
    "                num_return_sequences=1,\n",
    "            )\n",
    "\n",
    "            generated_text = tokenizer.decode(output_sequences[0], skip_special_tokens=True)\n",
    "\n",
    "            # Find and remove the initial part up to <output>\n",
    "            start_output = generated_text.find(\"<output>\") + len(\"<output>\")\n",
    "            generated_text = generated_text[start_output:].strip()\n",
    "\n",
    "            # Remove the ending </output> tag or truncate at last complete tag\n",
    "            end_tag = generated_text.find(\"</output>\")\n",
    "            if end_tag != -1:\n",
    "                generated_text = generated_text[:end_tag]\n",
    "            else:\n",
    "                last_comma = generated_text.rfind(\",\")\n",
    "                if last_comma != -1:\n",
    "                    generated_text = generated_text[:last_comma]\n",
    "\n",
    "            all_outputs.append(generated_text.strip())\n",
    "\n",
    "    # Join all outputs into a single string separated by new lines\n",
    "    return \"\\n\".join(all_outputs)\n",
    "\n",
    "# Define Gradio interface components\n",
    "checkbox_choices = [os.path.basename(os.path.normpath(model_dir)) for model_dir in MODEL_DIRS]\n",
    "iface = gr.Interface(\n",
    "    fn=generate_text,\n",
    "    inputs=[\n",
    "        gr.Radio(choices=[\"general\", \"nsfw\"], label=\"Rating\", value=\"safe\"),\n",
    "        gr.Radio(choices=[\"2000s\", \"2010s\", \"2020s\"], label=\"Date\", value=\"2020s\"),\n",
    "        gr.Radio(choices=[\"normal\", \"good\", \"excellent\"], label=\"Quality\", value=\"excellent\"),\n",
    "        gr.Textbox(lines=1, placeholder=\"Enter your prompt here...\", label=\"Character\"),\n",
    "        gr.Textbox(lines=2, placeholder=\"Enter your prompt here...\", label=\"Prompt\"),\n",
    "        gr.Slider(minimum=40, maximum=300, value=180, step=10, label=\"Max Length\"),\n",
    "        gr.Slider(minimum=1, maximum=20, value=1, step=1, label=\"Number of Lines\"),\n",
    "        gr.CheckboxGroup(choices=checkbox_choices, label=\"Select Models\", value=checkbox_choices),\n",
    "    ],\n",
    "    outputs=gr.Textbox(label=\"Generated Texts\"),\n",
    "    title=\"GPT-2 Text Generation | Multi-Model Support\",\n",
    "    description=\"This interface generates text based on the input prompt using selected models. Each model is fine-tuned from GPT-2.\"\n",
    ")\n",
    "\n",
    "# Launch the interface\n",
    "iface.launch(share=True)"
   ]
  },
  {
   "cell_type": "code",
   "execution_count": 2,
   "metadata": {},
   "outputs": [
    {
     "name": "stdout",
     "output_type": "stream",
     "text": [
      "Requirement already satisfied: pydantic in /home/ubuntu/miniconda3/lib/python3.10/site-packages (1.10.14)\n",
      "Collecting pydantic\n",
      "  Downloading pydantic-2.7.0-py3-none-any.whl.metadata (103 kB)\n",
      "\u001b[2K     \u001b[90m━━━━━━━━━━━━━━━━━━━━━━━━━━━━━━━━━━━━━━━\u001b[0m \u001b[32m103.4/103.4 kB\u001b[0m \u001b[31m3.8 MB/s\u001b[0m eta \u001b[36m0:00:00\u001b[0m\n",
      "\u001b[?25hRequirement already satisfied: annotated-types>=0.4.0 in /home/ubuntu/miniconda3/lib/python3.10/site-packages (from pydantic) (0.6.0)\n",
      "Collecting pydantic-core==2.18.1 (from pydantic)\n",
      "  Downloading pydantic_core-2.18.1-cp310-cp310-manylinux_2_17_x86_64.manylinux2014_x86_64.whl.metadata (6.5 kB)\n",
      "Requirement already satisfied: typing-extensions>=4.6.1 in /home/ubuntu/miniconda3/lib/python3.10/site-packages (from pydantic) (4.9.0)\n",
      "Downloading pydantic-2.7.0-py3-none-any.whl (407 kB)\n",
      "\u001b[2K   \u001b[90m━━━━━━━━━━━━━━━━━━━━━━━━━━━━━━━━━━━━━━━━\u001b[0m \u001b[32m407.9/407.9 kB\u001b[0m \u001b[31m15.2 MB/s\u001b[0m eta \u001b[36m0:00:00\u001b[0m\n",
      "\u001b[?25hDownloading pydantic_core-2.18.1-cp310-cp310-manylinux_2_17_x86_64.manylinux2014_x86_64.whl (2.1 MB)\n",
      "\u001b[2K   \u001b[90m━━━━━━━━━━━━━━━━━━━━━━━━━━━━━━━━━━━━━━━━\u001b[0m \u001b[32m2.1/2.1 MB\u001b[0m \u001b[31m66.3 MB/s\u001b[0m eta \u001b[36m0:00:00\u001b[0m\n",
      "\u001b[?25hInstalling collected packages: pydantic-core, pydantic\n",
      "  Attempting uninstall: pydantic-core\n",
      "    Found existing installation: pydantic_core 2.16.3\n",
      "    Uninstalling pydantic_core-2.16.3:\n",
      "      Successfully uninstalled pydantic_core-2.16.3\n",
      "  Attempting uninstall: pydantic\n",
      "    Found existing installation: pydantic 1.10.14\n",
      "    Uninstalling pydantic-1.10.14:\n",
      "      Successfully uninstalled pydantic-1.10.14\n",
      "Successfully installed pydantic-2.7.0 pydantic-core-2.18.1\n"
     ]
    }
   ],
   "source": [
    "!pip install -U pydantic"
   ]
  }
 ],
 "metadata": {
  "kernelspec": {
   "display_name": "Python 3 (ipykernel)",
   "language": "python",
   "name": "python3"
  },
  "language_info": {
   "codemirror_mode": {
    "name": "ipython",
    "version": 3
   },
   "file_extension": ".py",
   "mimetype": "text/x-python",
   "name": "python",
   "nbconvert_exporter": "python",
   "pygments_lexer": "ipython3",
   "version": "3.10.13"
  }
 },
 "nbformat": 4,
 "nbformat_minor": 4
}
