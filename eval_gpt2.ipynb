{
 "cells": [
  {
   "cell_type": "code",
   "execution_count": 1,
   "metadata": {},
   "outputs": [],
   "source": [
    "from PIL import Image, PngImagePlugin\n",
    "import hashlib\n",
    "import json\n",
    "from datetime import datetime\n",
    "import os\n",
    "\n",
    "import unibox as ub"
   ]
  },
  {
   "cell_type": "markdown",
   "metadata": {},
   "source": [
    "gpt2 client:"
   ]
  },
  {
   "cell_type": "code",
   "execution_count": 2,
   "metadata": {},
   "outputs": [
    {
     "name": "stdout",
     "output_type": "stream",
     "text": [
      "Loaded as API: https://e45d0e6c55d3364043.gradio.live/ ✔\n"
     ]
    },
    {
     "data": {
      "text/plain": [
       "'hatsune miku, 1girl, blonde hair, twintails, closed eyes, open mouth, smile, hair ornament, very long hair, sleeveless, white dress, hair flower, outdoors, outstretched arms, bare shoulders, bangs, :d, white footwear, armpits, hair between eyes, arm up, blurry background, depth of field, spread arms, standing on one leg, cloudy sky, pink flower, full body, white pantyhose, VOCALOI'"
      ]
     },
     "execution_count": 2,
     "metadata": {},
     "output_type": "execute_result"
    }
   ],
   "source": [
    "# gpt2 api\n",
    "from gradio_client import Client\n",
    "\n",
    "GPT2_ENDPOINT = \"https://e45d0e6c55d3364043.gradio.live/\"\n",
    "client = Client(GPT2_ENDPOINT) # version epoch_0_batch_11727\n",
    "\n",
    "\n",
    "def get_gpt2_pred(prompt, max_length):\n",
    "\t# prompt: str\n",
    "\t# max_length: float (numeric value between 10 and 300)\n",
    "\t# return: str\n",
    "\tresult = client.predict(\n",
    "\t\tprompt,\n",
    "\t\tmax_length,\n",
    "\t\tapi_name=\"/predict\"\n",
    "\t)\n",
    "\treturn result\n",
    "\n",
    "get_gpt2_pred(\"hatsune miku\", 100)"
   ]
  },
  {
   "cell_type": "markdown",
   "metadata": {},
   "source": [
    "webui:"
   ]
  },
  {
   "cell_type": "code",
   "execution_count": 3,
   "metadata": {},
   "outputs": [],
   "source": [
    "# https://github.com/troph-team/eval-it/blob/aa0cb59983e2b0385ef03328b2ce6a3c36a073a0/evalit/webui/webui_t2i_client.py#L38C7-L38C27\n",
    "from evalit.webui.webui_t2i_client import WebuiT2iClient\n",
    "from evalit.webui.webui_t2i_client import WebuiT2iClient, SdxlGenerationConfig\n",
    "from evalit.webui.webui_options_manager import OptionsManager\n",
    "\n",
    "\n",
    "def save_image(image_paths:list[str], param_strs:list[str], api_args, save_dir:str=\"saved_images\"):\n",
    "    \"\"\"保存一个webui生成结果到本地 (可能包括多张图)\n",
    "\n",
    "    \"\"\"\n",
    "\n",
    "    saved_files = []\n",
    "\n",
    "    for i, (image, param) in enumerate(zip(image_paths, param_strs)):\n",
    "        os.makedirs(save_dir, exist_ok=True)\n",
    "        pnginfo = PngImagePlugin.PngInfo()\n",
    "        pnginfo.add_text(\"parameters\", param)\n",
    "        pnginfo.add_text(\"api_args\", json.dumps(api_args))\n",
    "\n",
    "        # get filename\n",
    "        timestamp = datetime.now().strftime('%Y%m%d%H%M%S')\n",
    "        img_hash = hashlib.md5(image.tobytes()).hexdigest()        \n",
    "        file_name = f\"{timestamp}_{img_hash[:4]}.png\"        \n",
    "        file_path = os.path.join(save_dir, file_name)\n",
    "\n",
    "        # save file\n",
    "        image.save(file_path, pnginfo=pnginfo)\n",
    "        saved_files.append(file_path)  # Add the saved file path to the list\n",
    "\n",
    "    return saved_files\n",
    "\n",
    "def generate_and_save_images(prompt:str, save_dir:str=\"saved_images\"):\n",
    "    \"\"\"从webui api roll图, 然后返回本地保存路径\n",
    "    (假设模型已经在webui里手动调到需要的那个)\n",
    "    \"\"\"\n",
    "    # initialize client\n",
    "    client = WebuiT2iClient(baseurl=\"http://0.0.0.0:7862\")\n",
    "\n",
    "    # initialize options manager\n",
    "    client_base_url = client.baseurl\n",
    "    options_manager = OptionsManager(client_base_url)\n",
    "\n",
    "    # https://github.com/troph-team/eval-it/blob/aa0cb59983e2b0385ef03328b2ce6a3c36a073a0/evalit/webui/webui_t2i_client.py#L38  \n",
    "    config = SdxlGenerationConfig() \n",
    "    config.sampler_name=\"Euler a\"\n",
    "    config.steps=24\n",
    "    config.cfg_scale=6.5\n",
    "\n",
    "    # generate images\n",
    "    images, param_strs, api_args = client.generate(prompt, config)  # negative defined in config\n",
    "\n",
    "    # save images\n",
    "    saved_files = save_image(images, param_strs, api_args, save_dir) # list of paths to saved images\n",
    "    return saved_files\n",
    "\n",
    "# save_dir = \"saved_images\"\n",
    "# img_path = generate_and_save_images(\"a cat\")[0]\n",
    "# display(ub.loads(img_path))"
   ]
  },
  {
   "cell_type": "markdown",
   "metadata": {},
   "source": [
    "gradio:"
   ]
  },
  {
   "cell_type": "code",
   "execution_count": 5,
   "metadata": {},
   "outputs": [
    {
     "name": "stdout",
     "output_type": "stream",
     "text": [
      "Running on local URL:  http://127.0.0.1:7864\n",
      "Running on public URL: https://3298699fb5d99ec73d.gradio.live\n",
      "\n",
      "This share link expires in 72 hours. For free permanent hosting and GPU upgrades, run `gradio deploy` from Terminal to deploy to Spaces (https://huggingface.co/spaces)\n"
     ]
    },
    {
     "data": {
      "text/html": [
       "<div><iframe src=\"https://3298699fb5d99ec73d.gradio.live\" width=\"100%\" height=\"500\" allow=\"autoplay; camera; microphone; clipboard-read; clipboard-write;\" frameborder=\"0\" allowfullscreen></iframe></div>"
      ],
      "text/plain": [
       "<IPython.core.display.HTML object>"
      ]
     },
     "metadata": {},
     "output_type": "display_data"
    },
    {
     "data": {
      "text/plain": []
     },
     "execution_count": 5,
     "metadata": {},
     "output_type": "execute_result"
    },
    {
     "name": "stdout",
     "output_type": "stream",
     "text": [
      "got prompt 1girl, jacket, scenery, water drop\n",
      "got augmented prompt 1girl, jacket, scenery, water drop, brown hair, holding umbrella, pants, short hair, from behind, umbrella, solo, hood, rain, hoodie, hairband, long hair, holding, stairs, raincoat, tree, hood down, sitting, border, raincoat, hair ribbon, ribbon, border, shirt\n",
      "got image0: ['saved_images/20240316104851_1fc1.png']\n"
     ]
    },
    {
     "name": "stderr",
     "output_type": "stream",
     "text": [
      "2024-03-16 10:49:00,865 [INFO] UniLogger: UniLoader.loads: .png LOADED from \"saved_images/20240316104851_1fc1.png\" in 0.00s\n",
      "2024-03-16 10:49:00,867 [INFO] UniLogger: UniLoader.loads: .png LOADED from \"saved_images/20240316104900_9f7e.png\" in 0.00s\n"
     ]
    },
    {
     "name": "stdout",
     "output_type": "stream",
     "text": [
      "got image1: ['saved_images/20240316104900_9f7e.png']\n",
      "stitched images\n",
      "got prompt 1girl, nude, tentacles\n",
      "got augmented prompt 1girl, nude, tentacles, blush, huge breasts, colored skin, green skin, traditional media, restrained, pointy ears, sweat, purple eyes, very long hair, open mouth, colored sclera, colored pencil (medium), nipples, breasts, solo, long hair, green hair, ass, ahog\n",
      "got image0: ['saved_images/20240316104919_3d3c.png']\n"
     ]
    },
    {
     "name": "stderr",
     "output_type": "stream",
     "text": [
      "2024-03-16 10:49:29,220 [INFO] UniLogger: UniLoader.loads: .png LOADED from \"saved_images/20240316104919_3d3c.png\" in 0.00s\n",
      "2024-03-16 10:49:29,221 [INFO] UniLogger: UniLoader.loads: .png LOADED from \"saved_images/20240316104928_6c14.png\" in 0.00s\n"
     ]
    },
    {
     "name": "stdout",
     "output_type": "stream",
     "text": [
      "got image1: ['saved_images/20240316104928_6c14.png']\n",
      "stitched images\n",
      "got prompt 1girl, blonde hair, flower\n",
      "got augmented prompt 1girl, blonde hair, flower, green eyes, hair ornament, elbow gloves, dress, side ponytail, hair bobbles, smile, white gloves, puffy short sleeves, yellow eyes, frills, bangs, long hair, long gloves, Aikatsu Friends!, Aine Yuki, solo, gloves, shor\n",
      "got image0: ['saved_images/20240316105005_9f92.png']\n"
     ]
    },
    {
     "name": "stderr",
     "output_type": "stream",
     "text": [
      "2024-03-16 10:50:15,312 [INFO] UniLogger: UniLoader.loads: .png LOADED from \"saved_images/20240316105005_9f92.png\" in 0.00s\n",
      "2024-03-16 10:50:15,313 [INFO] UniLogger: UniLoader.loads: .png LOADED from \"saved_images/20240316105014_36ec.png\" in 0.00s\n"
     ]
    },
    {
     "name": "stdout",
     "output_type": "stream",
     "text": [
      "got image1: ['saved_images/20240316105014_36ec.png']\n",
      "stitched images\n",
      "got prompt 1boy, bandaid, jacket\n",
      "got augmented prompt 1boy, bandaid, jacket, 1girl, brown hair, blush, white background, grey hair, sketch, male focus, red eyes, short hair, simple background, hoodie, ahoge, comic, hood, heart, brown hair, smile, hetero, couple, kiss, shirt, hug, dated\n",
      "got image0: ['saved_images/20240316105052_9349.png']\n"
     ]
    },
    {
     "name": "stderr",
     "output_type": "stream",
     "text": [
      "2024-03-16 10:51:02,265 [INFO] UniLogger: UniLoader.loads: .png LOADED from \"saved_images/20240316105052_9349.png\" in 0.00s\n",
      "2024-03-16 10:51:02,266 [INFO] UniLogger: UniLoader.loads: .png LOADED from \"saved_images/20240316105102_e1c3.png\" in 0.00s\n"
     ]
    },
    {
     "name": "stdout",
     "output_type": "stream",
     "text": [
      "got image1: ['saved_images/20240316105102_e1c3.png']\n",
      "stitched images\n",
      "got prompt \n"
     ]
    },
    {
     "name": "stderr",
     "output_type": "stream",
     "text": [
      "Traceback (most recent call last):\n",
      "  File \"/home/ubuntu/miniconda3/lib/python3.10/site-packages/gradio/queueing.py\", line 501, in call_prediction\n",
      "    output = await route_utils.call_process_api(\n",
      "  File \"/home/ubuntu/miniconda3/lib/python3.10/site-packages/gradio/route_utils.py\", line 253, in call_process_api\n",
      "    output = await app.get_blocks().process_api(\n",
      "  File \"/home/ubuntu/miniconda3/lib/python3.10/site-packages/gradio/blocks.py\", line 1695, in process_api\n",
      "    result = await self.call_function(\n",
      "  File \"/home/ubuntu/miniconda3/lib/python3.10/site-packages/gradio/blocks.py\", line 1235, in call_function\n",
      "    prediction = await anyio.to_thread.run_sync(\n",
      "  File \"/home/ubuntu/miniconda3/lib/python3.10/site-packages/anyio/to_thread.py\", line 33, in run_sync\n",
      "    return await get_asynclib().run_sync_in_worker_thread(\n",
      "  File \"/home/ubuntu/miniconda3/lib/python3.10/site-packages/anyio/_backends/_asyncio.py\", line 877, in run_sync_in_worker_thread\n",
      "    return await future\n",
      "  File \"/home/ubuntu/miniconda3/lib/python3.10/site-packages/anyio/_backends/_asyncio.py\", line 807, in run\n",
      "    result = context.run(func, *args)\n",
      "  File \"/home/ubuntu/miniconda3/lib/python3.10/site-packages/gradio/utils.py\", line 692, in wrapper\n",
      "    response = f(*args, **kwargs)\n",
      "  File \"/tmp/ipykernel_213773/717171941.py\", line 7, in roll_image\n",
      "    augmented_prompt = get_gpt2_pred(prompt, 60)\n",
      "  File \"/tmp/ipykernel_213773/320085725.py\", line 12, in get_gpt2_pred\n",
      "    result = client.predict(\n",
      "  File \"/home/ubuntu/miniconda3/lib/python3.10/site-packages/gradio_client/client.py\", line 409, in predict\n",
      "    return self.submit(*args, api_name=api_name, fn_index=fn_index).result()\n",
      "  File \"/home/ubuntu/miniconda3/lib/python3.10/site-packages/gradio_client/client.py\", line 1246, in result\n",
      "    return super().result(timeout=timeout)\n",
      "  File \"/home/ubuntu/miniconda3/lib/python3.10/concurrent/futures/_base.py\", line 458, in result\n",
      "    return self.__get_result()\n",
      "  File \"/home/ubuntu/miniconda3/lib/python3.10/concurrent/futures/_base.py\", line 403, in __get_result\n",
      "    raise self._exception\n",
      "  File \"/home/ubuntu/miniconda3/lib/python3.10/concurrent/futures/thread.py\", line 58, in run\n",
      "    result = self.fn(*self.args, **self.kwargs)\n",
      "  File \"/home/ubuntu/miniconda3/lib/python3.10/site-packages/gradio_client/client.py\", line 1001, in _inner\n",
      "    predictions = _predict(*data)\n",
      "  File \"/home/ubuntu/miniconda3/lib/python3.10/site-packages/gradio_client/client.py\", line 1044, in _predict\n",
      "    raise ValueError(result[\"error\"])\n",
      "ValueError: None\n"
     ]
    },
    {
     "name": "stdout",
     "output_type": "stream",
     "text": [
      "got prompt bilibili\n",
      "got augmented prompt bilibiliya chinese, hong meiling, 1girl, green eyes, double bun, multicolored hair, black hair, red jacket, open mouth, two-tone hair, smile, chinese clothes, :d, streaked hair, eyebrows visible through hair, black shorts, cowboy sho\n",
      "got image0: ['saved_images/20240316105237_cd51.png']\n"
     ]
    },
    {
     "name": "stderr",
     "output_type": "stream",
     "text": [
      "2024-03-16 10:52:47,231 [INFO] UniLogger: UniLoader.loads: .png LOADED from \"saved_images/20240316105237_cd51.png\" in 0.00s\n",
      "2024-03-16 10:52:47,232 [INFO] UniLogger: UniLoader.loads: .png LOADED from \"saved_images/20240316105246_7d61.png\" in 0.00s\n"
     ]
    },
    {
     "name": "stdout",
     "output_type": "stream",
     "text": [
      "got image1: ['saved_images/20240316105246_7d61.png']\n",
      "stitched images\n",
      "got prompt bilibili\n",
      "got augmented prompt bilibili (swimsuit lancer) (swimsuit lancer) (swimsuit lancer) (swimsuit lancer) (swimsuit lancer) (swimsuit lancer) (swimsuit lancer) (first ascension) (fate), 1gir\n",
      "got image0: ['saved_images/20240316105611_cd51.png']\n"
     ]
    },
    {
     "name": "stderr",
     "output_type": "stream",
     "text": [
      "2024-03-16 10:56:20,753 [INFO] UniLogger: UniLoader.loads: .png LOADED from \"saved_images/20240316105611_cd51.png\" in 0.00s\n",
      "2024-03-16 10:56:20,754 [INFO] UniLogger: UniLoader.loads: .png LOADED from \"saved_images/20240316105620_31b1.png\" in 0.00s\n"
     ]
    },
    {
     "name": "stdout",
     "output_type": "stream",
     "text": [
      "got image1: ['saved_images/20240316105620_31b1.png']\n",
      "stitched images\n",
      "got prompt 1boy, short hair, motorcycle, cyberpunk, goggles\n",
      "got augmented prompt 1boy, short hair, motorcycle, cyberpunk, goggles on head, grey hair, black gloves, cyborg, grey bodysuit, black shirt, multiple boys, holding weapon, male focus, black bodysuit, 3boys, jacket, bodysuit, gloves, shirt, goggles, belt, weapon, holding, solo, shorts, blu\n",
      "got image0: ['saved_images/20240316105631_a3b3.png']\n"
     ]
    },
    {
     "name": "stderr",
     "output_type": "stream",
     "text": [
      "2024-03-16 10:56:40,686 [INFO] UniLogger: UniLoader.loads: .png LOADED from \"saved_images/20240316105631_a3b3.png\" in 0.00s\n",
      "2024-03-16 10:56:40,687 [INFO] UniLogger: UniLoader.loads: .png LOADED from \"saved_images/20240316105640_837a.png\" in 0.00s\n"
     ]
    },
    {
     "name": "stdout",
     "output_type": "stream",
     "text": [
      "got image1: ['saved_images/20240316105640_837a.png']\n",
      "stitched images\n",
      "got prompt minato aqua\n",
      "got augmented prompt minato aqua, 1girl, blonde hair, long hair, hair ornament, blue eyes, black legwear, hairclip, large breasts, zettai ryouiki, blush, impossible shirt, impossible clothes, looking at viewer, short sleeves, breast hold, bangs, cowboy shot, miniskir\n",
      "got image0: ['saved_images/20240316105922_5e06.png']\n"
     ]
    },
    {
     "name": "stderr",
     "output_type": "stream",
     "text": [
      "2024-03-16 10:59:32,056 [INFO] UniLogger: UniLoader.loads: .png LOADED from \"saved_images/20240316105922_5e06.png\" in 0.00s\n",
      "2024-03-16 10:59:32,057 [INFO] UniLogger: UniLoader.loads: .png LOADED from \"saved_images/20240316105931_095d.png\" in 0.00s\n"
     ]
    },
    {
     "name": "stdout",
     "output_type": "stream",
     "text": [
      "got image1: ['saved_images/20240316105931_095d.png']\n",
      "stitched images\n",
      "got prompt satou kuuki\n",
      "got augmented prompt satou kuuki (1st costume), 1girl, open mouth, pointy ears, white background, pink hair, looking at viewer, eyebrows visible through hair, hair between eyes, simple background, :d, :3, curled horns, puffy long sleeves, medium breasts, cowboy shot, hand up\n",
      "got image0: ['saved_images/20240316110108_69ac.png']\n"
     ]
    },
    {
     "name": "stderr",
     "output_type": "stream",
     "text": [
      "2024-03-16 11:01:17,908 [INFO] UniLogger: UniLoader.loads: .png LOADED from \"saved_images/20240316110108_69ac.png\" in 0.00s\n",
      "2024-03-16 11:01:17,909 [INFO] UniLogger: UniLoader.loads: .png LOADED from \"saved_images/20240316110117_dcd3.png\" in 0.00s\n"
     ]
    },
    {
     "name": "stdout",
     "output_type": "stream",
     "text": [
      "got image1: ['saved_images/20240316110117_dcd3.png']\n",
      "stitched images\n",
      "got prompt gothic lolita\n",
      "got augmented prompt gothic lolita, blue hair, stuffed toy, stuffed animal, thighhighs, stuffed bunny, green eyes, frills, stuffed cat, long hair, multiple girls, lolita fashion, pantyhose, multiple boys, black legwear, brown hair, red eyes, blush, stuffed bunny, shor\n",
      "got image0: ['saved_images/20240316110339_f5eb.png']\n"
     ]
    },
    {
     "name": "stderr",
     "output_type": "stream",
     "text": [
      "2024-03-16 11:03:49,194 [INFO] UniLogger: UniLoader.loads: .png LOADED from \"saved_images/20240316110339_f5eb.png\" in 0.00s\n",
      "2024-03-16 11:03:49,195 [INFO] UniLogger: UniLoader.loads: .png LOADED from \"saved_images/20240316110348_7254.png\" in 0.00s\n"
     ]
    },
    {
     "name": "stdout",
     "output_type": "stream",
     "text": [
      "got image1: ['saved_images/20240316110348_7254.png']\n",
      "stitched images\n",
      "got prompt 1girl, gothic lolita\n",
      "got augmented prompt 1girl, gothic lolita, black hair, long hair, lolita fashion, red eyes, white background, simple background, black footwear, holding weapon, frills, holding gun, standing, open mouth, long sleeves, full body, black dress, black skirt, white shirt, brown eyes, solo, gun, weapo\n",
      "got image0: ['saved_images/20240316110421_ba39.png']\n"
     ]
    },
    {
     "name": "stderr",
     "output_type": "stream",
     "text": [
      "2024-03-16 11:04:30,523 [INFO] UniLogger: UniLoader.loads: .png LOADED from \"saved_images/20240316110421_ba39.png\" in 0.00s\n",
      "2024-03-16 11:04:30,524 [INFO] UniLogger: UniLoader.loads: .png LOADED from \"saved_images/20240316110430_cfbd.png\" in 0.00s\n"
     ]
    },
    {
     "name": "stdout",
     "output_type": "stream",
     "text": [
      "got image1: ['saved_images/20240316110430_cfbd.png']\n",
      "stitched images\n",
      "got prompt hatsune miku\n",
      "got augmented prompt hatsune miku, 1girl, horns, twintails, detached sleeves, closed eyes, open mouth, very long hair, sitting, japanese clothes, smile, cloud, brown hair, star (symbol), blush, hair ornament, skirt, thighhighs, star hair ornament, long hair\n",
      "got image0: ['saved_images/20240316110728_fed4.png']\n"
     ]
    },
    {
     "name": "stderr",
     "output_type": "stream",
     "text": [
      "2024-03-16 11:07:37,949 [INFO] UniLogger: UniLoader.loads: .png LOADED from \"saved_images/20240316110728_fed4.png\" in 0.00s\n",
      "2024-03-16 11:07:37,950 [INFO] UniLogger: UniLoader.loads: .png LOADED from \"saved_images/20240316110737_ca98.png\" in 0.00s\n"
     ]
    },
    {
     "name": "stdout",
     "output_type": "stream",
     "text": [
      "got image1: ['saved_images/20240316110737_ca98.png']\n",
      "stitched images\n",
      "got prompt hatsune miku\n",
      "got augmented prompt hatsune miku, multiple girls, 2girls, twintails, very long hair, aqua hair, necktie, detached sleeves, zettai ryouiki, aqua eyes, nail polish, star (symbol), blue eyes, headphones, flower, thigh boots, blue hair, blue background\n",
      "got image0: ['saved_images/20240316110757_fed4.png']\n"
     ]
    },
    {
     "name": "stderr",
     "output_type": "stream",
     "text": [
      "2024-03-16 11:08:07,098 [INFO] UniLogger: UniLoader.loads: .png LOADED from \"saved_images/20240316110757_fed4.png\" in 0.00s\n",
      "2024-03-16 11:08:07,099 [INFO] UniLogger: UniLoader.loads: .png LOADED from \"saved_images/20240316110806_9fa7.png\" in 0.00s\n"
     ]
    },
    {
     "name": "stdout",
     "output_type": "stream",
     "text": [
      "got image1: ['saved_images/20240316110806_9fa7.png']\n",
      "stitched images\n",
      "got prompt 1girl, blonde hair, flowers\n",
      "got augmented prompt 1girl, blonde hair, flowers, red eyes, side ponytail, smile, short hair, mob cap, ascot, hat ribbon, upper body, bow, frills, red vest, puffy short sleeves, white shirt, solo, hat, shirt, ribbon, vest, short sleeves, puffy sleeves, bowti\n",
      "got image0: ['saved_images/20240316110849_375a.png']\n"
     ]
    },
    {
     "name": "stderr",
     "output_type": "stream",
     "text": [
      "2024-03-16 11:08:58,818 [INFO] UniLogger: UniLoader.loads: .png LOADED from \"saved_images/20240316110849_375a.png\" in 0.00s\n",
      "2024-03-16 11:08:58,819 [INFO] UniLogger: UniLoader.loads: .png LOADED from \"saved_images/20240316110858_fddc.png\" in 0.00s\n"
     ]
    },
    {
     "name": "stdout",
     "output_type": "stream",
     "text": [
      "got image1: ['saved_images/20240316110858_fddc.png']\n",
      "stitched images\n",
      "got prompt 1girl, ice cube\n",
      "got augmented prompt 1girl, ice cube, green eyes, long hair, blue hair, star (symbol), red shirt, black pants, t-shirt, signature, hair between eyes, bangs, solo, shirt, pants, ice, sweat, bubble, white hair, water, smile, belt, black belt, antenna\n",
      "got image0: ['saved_images/20240316111104_8297.png']\n"
     ]
    },
    {
     "name": "stderr",
     "output_type": "stream",
     "text": [
      "2024-03-16 11:11:13,524 [INFO] UniLogger: UniLoader.loads: .png LOADED from \"saved_images/20240316111104_8297.png\" in 0.00s\n",
      "2024-03-16 11:11:13,525 [INFO] UniLogger: UniLoader.loads: .png LOADED from \"saved_images/20240316111113_8b61.png\" in 0.00s\n"
     ]
    },
    {
     "name": "stdout",
     "output_type": "stream",
     "text": [
      "got image1: ['saved_images/20240316111113_8b61.png']\n",
      "stitched images\n",
      "got prompt light saber\n",
      "got augmented prompt light saber, 1boy, male focus, weapon, energy sword, dual wielding, white background, brown eyes, full body, holding, dark-skinned male, open clothes, fighting stance, simple background, open shirt, white jacket, brown footwear, open jacket, facial hair, standing, short hair\n",
      "got image0: ['saved_images/20240316111207_20b0.png']\n"
     ]
    },
    {
     "name": "stderr",
     "output_type": "stream",
     "text": [
      "2024-03-16 11:12:16,658 [INFO] UniLogger: UniLoader.loads: .png LOADED from \"saved_images/20240316111207_20b0.png\" in 0.00s\n",
      "2024-03-16 11:12:16,659 [INFO] UniLogger: UniLoader.loads: .png LOADED from \"saved_images/20240316111216_bf40.png\" in 0.00s\n"
     ]
    },
    {
     "name": "stdout",
     "output_type": "stream",
     "text": [
      "got image1: ['saved_images/20240316111216_bf40.png']\n",
      "stitched images\n",
      "got prompt 1girl, black dress\n",
      "got augmented prompt 1girl, black dress, hair ribbon, looking at viewer, open mouth, bangs, eyebrows visible through hair, upper body, white ribbon, puffy short sleeves, lolita hairband, lolita fashion, puffy short sleeves, hair between eyes, white hairband, frills, light brown hair, mediu\n",
      "got image0: ['saved_images/20240316111607_2372.png']\n"
     ]
    },
    {
     "name": "stderr",
     "output_type": "stream",
     "text": [
      "2024-03-16 11:16:16,826 [INFO] UniLogger: UniLoader.loads: .png LOADED from \"saved_images/20240316111607_2372.png\" in 0.00s\n",
      "2024-03-16 11:16:16,827 [INFO] UniLogger: UniLoader.loads: .png LOADED from \"saved_images/20240316111616_d8f2.png\" in 0.00s\n"
     ]
    },
    {
     "name": "stdout",
     "output_type": "stream",
     "text": [
      "got image1: ['saved_images/20240316111616_d8f2.png']\n",
      "stitched images\n",
      "got prompt fires and water\n",
      "got augmented prompt fires and water, 1girl, solo, brown hair, grass, short hair, dress, smile, black hair, nature, day, skirt, tree, flower field, field, hat, flower, bow, hair bow, ribbon, hair ribbon, hair brush, nature, field of clothes, ribbon, ha\n",
      "got image0: ['saved_images/20240316112054_b8ce.png']\n"
     ]
    },
    {
     "name": "stderr",
     "output_type": "stream",
     "text": [
      "2024-03-16 11:21:03,929 [INFO] UniLogger: UniLoader.loads: .png LOADED from \"saved_images/20240316112054_b8ce.png\" in 0.00s\n",
      "2024-03-16 11:21:03,930 [INFO] UniLogger: UniLoader.loads: .png LOADED from \"saved_images/20240316112103_27e0.png\" in 0.00s\n"
     ]
    },
    {
     "name": "stdout",
     "output_type": "stream",
     "text": [
      "got image1: ['saved_images/20240316112103_27e0.png']\n",
      "stitched images\n",
      "got prompt 1girl, outdoors, skyscraper, red hair, jeans\n",
      "got augmented prompt 1girl, outdoors, skyscraper, red hair, jeans, jacket, blue sky, denim, scenery, long sleeves, day, looking at viewer, hair between eyes, bangs, standing, medium hair, from below, closed mouth, cityscape, black hair, floating hair, breasts, red eyes, illustration, fantasy, creation, background, creatio\n",
      "got image0: ['saved_images/20240316112235_ced6.png']\n"
     ]
    },
    {
     "name": "stderr",
     "output_type": "stream",
     "text": [
      "2024-03-16 11:22:45,104 [INFO] UniLogger: UniLoader.loads: .png LOADED from \"saved_images/20240316112235_ced6.png\" in 0.00s\n",
      "2024-03-16 11:22:45,105 [INFO] UniLogger: UniLoader.loads: .png LOADED from \"saved_images/20240316112244_65d4.png\" in 0.00s\n"
     ]
    },
    {
     "name": "stdout",
     "output_type": "stream",
     "text": [
      "got image1: ['saved_images/20240316112244_65d4.png']\n",
      "stitched images\n",
      "got prompt 1girl, black dress\n",
      "got augmented prompt 1girl, black dress, jewelry, necklace, black gloves, brown eyes, parted lips, bangs, looking at viewer, collared shirt, eyebrows visible through hair, long sleeves, black headwear, black neckwear, hat flower, hair between eyes, standing, :o, looking to the side, outdoors\n",
      "got image0: ['saved_images/20240316112636_c8db.png']\n"
     ]
    },
    {
     "name": "stderr",
     "output_type": "stream",
     "text": [
      "2024-03-16 11:26:45,695 [INFO] UniLogger: UniLoader.loads: .png LOADED from \"saved_images/20240316112636_c8db.png\" in 0.00s\n",
      "2024-03-16 11:26:45,697 [INFO] UniLogger: UniLoader.loads: .png LOADED from \"saved_images/20240316112645_cba8.png\" in 0.00s\n"
     ]
    },
    {
     "name": "stdout",
     "output_type": "stream",
     "text": [
      "got image1: ['saved_images/20240316112645_cba8.png']\n",
      "stitched images\n",
      "got prompt 1girl, outdoors, skyscraper, red hair, jeans\n",
      "got augmented prompt 1girl, outdoors, skyscraper, red hair, jeans, pants, short sleeves, signature, brown hair, city, brown eyes, pink hairband, blue jacket, black shirt, pink footwear, sneakers, blue shirt, closed mouth, full body, floating hair, pink bow, pink ribbon, t-shirt, looking at viewer, smile, purpl\n",
      "got image0: ['saved_images/20240316112804_c3d0.png']\n"
     ]
    },
    {
     "name": "stderr",
     "output_type": "stream",
     "text": [
      "2024-03-16 11:28:14,286 [INFO] UniLogger: UniLoader.loads: .png LOADED from \"saved_images/20240316112804_c3d0.png\" in 0.00s\n",
      "2024-03-16 11:28:14,287 [INFO] UniLogger: UniLoader.loads: .png LOADED from \"saved_images/20240316112813_3bee.png\" in 0.00s\n"
     ]
    },
    {
     "name": "stdout",
     "output_type": "stream",
     "text": [
      "got image1: ['saved_images/20240316112813_3bee.png']\n",
      "stitched images\n",
      "got prompt fires and water\n",
      "got augmented prompt fires and watercolor (medium), multiple boys, flower, 1girl, 2boys, painting (medium), long hair, brown hair, traditional media, watercolor painting, black hair, short hair, painting (object), 1boy, school uniform, gakuran, male focus, blue hair, red hai\n",
      "got image0: ['saved_images/20240316112858_30df.png']\n"
     ]
    },
    {
     "name": "stderr",
     "output_type": "stream",
     "text": [
      "2024-03-16 11:29:07,733 [INFO] UniLogger: UniLoader.loads: .png LOADED from \"saved_images/20240316112858_30df.png\" in 0.00s\n",
      "2024-03-16 11:29:07,734 [INFO] UniLogger: UniLoader.loads: .png LOADED from \"saved_images/20240316112907_5387.png\" in 0.00s\n"
     ]
    },
    {
     "name": "stdout",
     "output_type": "stream",
     "text": [
      "got image1: ['saved_images/20240316112907_5387.png']\n",
      "stitched images\n",
      "got prompt coke girl\n",
      "got augmented prompt coke girl, 1girl, underwear, panty pull, female pubic hair, blush, skirt pull, blush, hair ornament, black hair, short hair, cameltoe, red eyes, long hair, black panties, clothes pull, hair bobbles, medium breasts, no panties, lying, kneehig\n",
      "got image0: ['saved_images/20240316113341_40a8.png']\n"
     ]
    },
    {
     "name": "stderr",
     "output_type": "stream",
     "text": [
      "2024-03-16 11:33:50,828 [INFO] UniLogger: UniLoader.loads: .png LOADED from \"saved_images/20240316113341_40a8.png\" in 0.00s\n",
      "2024-03-16 11:33:50,829 [INFO] UniLogger: UniLoader.loads: .png LOADED from \"saved_images/20240316113350_4104.png\" in 0.00s\n"
     ]
    },
    {
     "name": "stdout",
     "output_type": "stream",
     "text": [
      "got image1: ['saved_images/20240316113350_4104.png']\n",
      "stitched images\n",
      "got prompt A saint girl with wings\n",
      "got augmented prompt A saint girl with wings, 1girl, blue eyes, long hair, silver hair, looking at viewer, red eyes, smile, character name, star (sky), full moon, night sky, grey hair, multicolored hair, red hair, wings, night, starry sky, moon, solo, sky\n",
      "got image0: ['saved_images/20240316113803_faa1.png']\n"
     ]
    },
    {
     "name": "stderr",
     "output_type": "stream",
     "text": [
      "2024-03-16 11:38:12,954 [INFO] UniLogger: UniLoader.loads: .png LOADED from \"saved_images/20240316113803_faa1.png\" in 0.00s\n",
      "2024-03-16 11:38:12,955 [INFO] UniLogger: UniLoader.loads: .png LOADED from \"saved_images/20240316113812_94d9.png\" in 0.00s\n"
     ]
    },
    {
     "name": "stdout",
     "output_type": "stream",
     "text": [
      "got image1: ['saved_images/20240316113812_94d9.png']\n",
      "stitched images\n",
      "got prompt A gulag girl\n",
      "got augmented prompt A gulag girl, 1girl, swimsuit, purple hair, one eye closed, purple eyes, navel, open mouth, frills, frilled bikini, holding eyewear, eyebrows visible through hair, medium breasts, wading, standing, collarbone, eyewear removed, holding innertub\n",
      "got image0: ['saved_images/20240316114035_de94.png']\n"
     ]
    },
    {
     "name": "stderr",
     "output_type": "stream",
     "text": [
      "2024-03-16 11:40:45,082 [INFO] UniLogger: UniLoader.loads: .png LOADED from \"saved_images/20240316114035_de94.png\" in 0.00s\n",
      "2024-03-16 11:40:45,083 [INFO] UniLogger: UniLoader.loads: .png LOADED from \"saved_images/20240316114044_04f4.png\" in 0.00s\n"
     ]
    },
    {
     "name": "stdout",
     "output_type": "stream",
     "text": [
      "got image1: ['saved_images/20240316114044_04f4.png']\n",
      "stitched images\n",
      "got prompt A space girl\n",
      "got augmented prompt A space girl (inazuma eleven), 1girl, twintails, long hair, black hair, star (sky), cloud, green eyes, hair ornament, open mouth, smile, blush, hair flower, pleated skirt, hair bow, kneehighs, hair ribbon, school uniform, long sleeve\n",
      "got image0: ['saved_images/20240316114425_f2c3.png']\n"
     ]
    },
    {
     "name": "stderr",
     "output_type": "stream",
     "text": [
      "2024-03-16 11:44:34,719 [INFO] UniLogger: UniLoader.loads: .png LOADED from \"saved_images/20240316114425_f2c3.png\" in 0.00s\n",
      "2024-03-16 11:44:34,720 [INFO] UniLogger: UniLoader.loads: .png LOADED from \"saved_images/20240316114434_050e.png\" in 0.00s\n"
     ]
    },
    {
     "name": "stdout",
     "output_type": "stream",
     "text": [
      "got image1: ['saved_images/20240316114434_050e.png']\n",
      "stitched images\n",
      "got prompt Android girl\n",
      "got augmented prompt Android girl (sekaijuoui), mecha, no humans, science fiction, grey background, holding weapon, clenched hands, clenched teeth, character name, robot, standing, holding gun, z gundam, 3DCG, weapon, gun, solo, holding, mecha, glowing\n",
      "got image0: ['saved_images/20240316114517_1068.png']\n"
     ]
    },
    {
     "name": "stderr",
     "output_type": "stream",
     "text": [
      "2024-03-16 11:45:26,766 [INFO] UniLogger: UniLoader.loads: .png LOADED from \"saved_images/20240316114517_1068.png\" in 0.00s\n",
      "2024-03-16 11:45:26,767 [INFO] UniLogger: UniLoader.loads: .png LOADED from \"saved_images/20240316114526_8b08.png\" in 0.00s\n"
     ]
    },
    {
     "name": "stdout",
     "output_type": "stream",
     "text": [
      "got image1: ['saved_images/20240316114526_8b08.png']\n",
      "stitched images\n",
      "got prompt Translucent body\n",
      "got augmented prompt Translucent bodyg, 1girl, nipples, flat chest, nude, censored, short hair, open mouth, silver hair, blush, hairband, grey eyes, pussy, lying, solo focus, 1boy, novelty censor, 1other, cum in pussy, grey hair, R-18, VOI\n",
      "got image0: ['saved_images/20240316114611_6e26.png']\n"
     ]
    },
    {
     "name": "stderr",
     "output_type": "stream",
     "text": [
      "2024-03-16 11:46:20,792 [INFO] UniLogger: UniLoader.loads: .png LOADED from \"saved_images/20240316114611_6e26.png\" in 0.00s\n",
      "2024-03-16 11:46:20,793 [INFO] UniLogger: UniLoader.loads: .png LOADED from \"saved_images/20240316114620_ccbe.png\" in 0.00s\n"
     ]
    },
    {
     "name": "stdout",
     "output_type": "stream",
     "text": [
      "got image1: ['saved_images/20240316114620_ccbe.png']\n",
      "stitched images\n",
      "got prompt Nyanko lepsoni\n",
      "got augmented prompt Nyanko lepsoni, multiple girls, 2girls, censored, blonde hair, torn clothes, blue hair, red eyes, yuri, long hair, open mouth, white legwear, blush, white background, pussy juice, large breasts, spread legs, looking at viewer, torn shirt, lying, on side\n",
      "got image0: ['saved_images/20240316114738_4422.png']\n"
     ]
    },
    {
     "name": "stderr",
     "output_type": "stream",
     "text": [
      "2024-03-16 11:47:48,078 [INFO] UniLogger: UniLoader.loads: .png LOADED from \"saved_images/20240316114738_4422.png\" in 0.00s\n",
      "2024-03-16 11:47:48,079 [INFO] UniLogger: UniLoader.loads: .png LOADED from \"saved_images/20240316114747_c8d0.png\" in 0.00s\n"
     ]
    },
    {
     "name": "stdout",
     "output_type": "stream",
     "text": [
      "got image1: ['saved_images/20240316114747_c8d0.png']\n",
      "stitched images\n",
      "got prompt 1girl, gothic lolita\n",
      "got augmented prompt 1girl, gothic lolita, black hair, lolita fashion, yellow eyes, twin drills, frills, hair ornament, hair flower, red flower, looking at viewer, blush, pale skin, holding fruit, simple background, black gloves, brown hair, brown eyes, holding knife, black capelet, solo, dril\n",
      "got image0: ['saved_images/20240316124623_390a.png']\n"
     ]
    },
    {
     "name": "stderr",
     "output_type": "stream",
     "text": [
      "2024-03-16 12:46:33,208 [INFO] UniLogger: UniLoader.loads: .png LOADED from \"saved_images/20240316124623_390a.png\" in 0.00s\n",
      "2024-03-16 12:46:33,210 [INFO] UniLogger: UniLoader.loads: .png LOADED from \"saved_images/20240316124632_f271.png\" in 0.00s\n"
     ]
    },
    {
     "name": "stdout",
     "output_type": "stream",
     "text": [
      "got image1: ['saved_images/20240316124632_f271.png']\n",
      "stitched images\n",
      "got prompt 1girl, sweat pants\n",
      "got augmented prompt 1girl, sweat pants, simple background, hair over one eye, open mouth, grey background, white footwear, short hair, full body, standing, blue pants, shadow, long sleeves, grey pants, holding animal, hands up, 1boy, male focus, grey jacket, sleeves past wrists, solo, green hai\n",
      "got image0: ['saved_images/20240316125533_5500.png']\n"
     ]
    },
    {
     "name": "stderr",
     "output_type": "stream",
     "text": [
      "2024-03-16 12:55:43,068 [INFO] UniLogger: UniLoader.loads: .png LOADED from \"saved_images/20240316125533_5500.png\" in 0.00s\n",
      "2024-03-16 12:55:43,070 [INFO] UniLogger: UniLoader.loads: .png LOADED from \"saved_images/20240316125542_51fb.png\" in 0.00s\n"
     ]
    },
    {
     "name": "stdout",
     "output_type": "stream",
     "text": [
      "got image1: ['saved_images/20240316125542_51fb.png']\n",
      "stitched images\n",
      "got prompt 1girl, sweat pants, oversized jacket, bare shoulders\n",
      "got augmented prompt 1girl, sweat pants, oversized jacket, bare shoulders, medium breasts, off shoulder, brown hair, standing, blue sky, ponytail, red eyes, white jacket, black footwear, full body, long hair, closed mouth, solo, jacket, breasts, pants, braid, day, blush, denim, shoes, cloud, sky, sk\n",
      "got image0: ['saved_images/20240316125953_cf98.png']\n"
     ]
    },
    {
     "name": "stderr",
     "output_type": "stream",
     "text": [
      "2024-03-16 13:00:03,606 [INFO] UniLogger: UniLoader.loads: .png LOADED from \"saved_images/20240316125953_cf98.png\" in 0.00s\n",
      "2024-03-16 13:00:03,607 [INFO] UniLogger: UniLoader.loads: .png LOADED from \"saved_images/20240316130003_bd26.png\" in 0.00s\n"
     ]
    },
    {
     "name": "stdout",
     "output_type": "stream",
     "text": [
      "got image1: ['saved_images/20240316130003_bd26.png']\n",
      "stitched images\n",
      "got prompt 1girl, sweat pants, oversized jacket, bare shoulders, city, fashion show\n",
      "got augmented prompt 1girl, sweat pants, oversized jacket, bare shoulders, city, fashion show, solo, black hair, jacket, pants, ass, pants pull, standing, jeans, denim, shirt, breasts, belt, tree, road, street, short hair, blush, road sign, sign, red eyes, sign around neck, outdoors, day, street, tree stump, tre\n",
      "got image0: ['saved_images/20240316130036_8fea.png']\n"
     ]
    },
    {
     "name": "stderr",
     "output_type": "stream",
     "text": [
      "2024-03-16 13:00:46,298 [INFO] UniLogger: UniLoader.loads: .png LOADED from \"saved_images/20240316130036_8fea.png\" in 0.00s\n",
      "2024-03-16 13:00:46,299 [INFO] UniLogger: UniLoader.loads: .png LOADED from \"saved_images/20240316130045_42f0.png\" in 0.00s\n"
     ]
    },
    {
     "name": "stdout",
     "output_type": "stream",
     "text": [
      "got image1: ['saved_images/20240316130045_42f0.png']\n",
      "stitched images\n",
      "got prompt 1girl, reef, tentacles, mysterious, abasurdly long hair\n",
      "got augmented prompt 1girl, reef, tentacles, mysterious, abasurdly long hair, solo, blonde hair, open mouth, parody, 1boy, red eyes, 1other, helmet, no eyes, looking at viewer, no nose, smile, bodysuit, hair bun, hair flower, flower, long hair, mask, ahoge, tiara, green hai\n",
      "got image0: ['saved_images/20240316130323_16a1.png']\n"
     ]
    },
    {
     "name": "stderr",
     "output_type": "stream",
     "text": [
      "2024-03-16 13:03:33,259 [INFO] UniLogger: UniLoader.loads: .png LOADED from \"saved_images/20240316130323_16a1.png\" in 0.00s\n",
      "2024-03-16 13:03:33,260 [INFO] UniLogger: UniLoader.loads: .png LOADED from \"saved_images/20240316130332_bd9f.png\" in 0.00s\n"
     ]
    },
    {
     "name": "stdout",
     "output_type": "stream",
     "text": [
      "got image1: ['saved_images/20240316130332_bd9f.png']\n",
      "stitched images\n",
      "got prompt 1girl, long hair, white hair\n",
      "got augmented prompt 1girl, long hair, white hair, looking at viewer, black hair, breasts, upper body, closed mouth, expressionless, solo, nude, oekaki, water, wet, rain, wet hair, wet eyes, water drop, onsen, wet hair, wet, navel, groin, steam, towel, poo\n",
      "got image0: ['saved_images/20240316131311_00c8.png']\n"
     ]
    },
    {
     "name": "stderr",
     "output_type": "stream",
     "text": [
      "2024-03-16 13:13:20,931 [INFO] UniLogger: UniLoader.loads: .png LOADED from \"saved_images/20240316131311_00c8.png\" in 0.00s\n",
      "2024-03-16 13:13:20,933 [INFO] UniLogger: UniLoader.loads: .png LOADED from \"saved_images/20240316131320_657a.png\" in 0.00s\n"
     ]
    },
    {
     "name": "stdout",
     "output_type": "stream",
     "text": [
      "got image1: ['saved_images/20240316131320_657a.png']\n",
      "stitched images\n",
      "got prompt yoisaki kanade\n",
      "got augmented prompt yoisaki kanade, kurodani yamame, 1girl, 1boy, blue hair, closed eyes, hair ornament, hair bobbles, short hair, back-to-back, japanese clothes, smile, back-to-back, blue eyes, white hair, flower, kimo\n",
      "got image0: ['saved_images/20240316132222_aa8c.png']\n"
     ]
    },
    {
     "name": "stderr",
     "output_type": "stream",
     "text": [
      "2024-03-16 13:22:32,337 [INFO] UniLogger: UniLoader.loads: .png LOADED from \"saved_images/20240316132222_aa8c.png\" in 0.00s\n",
      "2024-03-16 13:22:32,339 [INFO] UniLogger: UniLoader.loads: .png LOADED from \"saved_images/20240316132231_3e99.png\" in 0.00s\n"
     ]
    },
    {
     "name": "stdout",
     "output_type": "stream",
     "text": [
      "got image1: ['saved_images/20240316132231_3e99.png']\n",
      "stitched images\n",
      "got prompt yoisaki kanade, 1girl, blue hair, hair between eyes, long hair\n",
      "got augmented prompt yoisaki kanade, 1girl, blue hair, hair between eyes, long hair, looking at viewer, white background, blue eyes, upper body, holding, simple background, sleeveless shirt, pinafore dress, collared shirt, closed mouth, puffy short sleeves, purple eyes, Aoi Kanahara, school uniform with tights, school bag, hig\n",
      "got image0: ['saved_images/20240316132416_2868.png']\n"
     ]
    },
    {
     "name": "stderr",
     "output_type": "stream",
     "text": [
      "2024-03-16 13:24:25,751 [INFO] UniLogger: UniLoader.loads: .png LOADED from \"saved_images/20240316132416_2868.png\" in 0.00s\n",
      "2024-03-16 13:24:25,752 [INFO] UniLogger: UniLoader.loads: .png LOADED from \"saved_images/20240316132425_a9fc.png\" in 0.00s\n"
     ]
    },
    {
     "name": "stdout",
     "output_type": "stream",
     "text": [
      "got image1: ['saved_images/20240316132425_a9fc.png']\n",
      "stitched images\n",
      "got prompt traveller, genshin impact\n",
      "got augmented prompt traveller, genshin impact, 1girl, black hair, red headwear, long hair, black dress, long sleeves, looking at viewer, standing, full body, brown footwear, white legwear, bangs, simple background, hair between eyes, chinese clothes, high heels, closed mouth, brown gloves, signatur\n",
      "got image0: ['saved_images/20240316133126_350c.png']\n"
     ]
    },
    {
     "name": "stderr",
     "output_type": "stream",
     "text": [
      "2024-03-16 13:31:35,665 [INFO] UniLogger: UniLoader.loads: .png LOADED from \"saved_images/20240316133126_350c.png\" in 0.00s\n",
      "2024-03-16 13:31:35,666 [INFO] UniLogger: UniLoader.loads: .png LOADED from \"saved_images/20240316133135_5adb.png\" in 0.00s\n"
     ]
    },
    {
     "name": "stdout",
     "output_type": "stream",
     "text": [
      "got image1: ['saved_images/20240316133135_5adb.png']\n",
      "stitched images\n",
      "got prompt spider man\n",
      "got augmented prompt spider man, spider girl, 1girl, monochrome, cleavage, long hair, barefoot, pointy ears, smile, hair over one eye, large breasts, medium breasts, open mouth, bare shoulders, gloves, spot color, hair censor, argyle background, choker, on\n",
      "got image0: ['saved_images/20240316133212_3146.png']\n"
     ]
    },
    {
     "name": "stderr",
     "output_type": "stream",
     "text": [
      "2024-03-16 13:32:21,657 [INFO] UniLogger: UniLoader.loads: .png LOADED from \"saved_images/20240316133212_3146.png\" in 0.00s\n",
      "2024-03-16 13:32:21,658 [INFO] UniLogger: UniLoader.loads: .png LOADED from \"saved_images/20240316133221_cee0.png\" in 0.00s\n"
     ]
    },
    {
     "name": "stdout",
     "output_type": "stream",
     "text": [
      "got image1: ['saved_images/20240316133221_cee0.png']\n",
      "stitched images\n",
      "got prompt octopus queen\n",
      "got augmented prompt octopus queen (third ascension) (fate), 1girl, red eyes, blonde hair, looking at viewer, multicolored hair, white shirt, jewelry, bracelet, blue skirt, black jacket, collared shirt, blue background, hair between eyes, eyebrows visible through hair, pleated skirt\n",
      "got image0: ['saved_images/20240316133403_5fb1.png']\n"
     ]
    },
    {
     "name": "stderr",
     "output_type": "stream",
     "text": [
      "2024-03-16 13:34:13,556 [INFO] UniLogger: UniLoader.loads: .png LOADED from \"saved_images/20240316133403_5fb1.png\" in 0.00s\n",
      "2024-03-16 13:34:13,557 [INFO] UniLogger: UniLoader.loads: .png LOADED from \"saved_images/20240316133413_5ce6.png\" in 0.00s\n"
     ]
    },
    {
     "name": "stdout",
     "output_type": "stream",
     "text": [
      "got image1: ['saved_images/20240316133413_5ce6.png']\n",
      "stitched images\n",
      "got prompt octopus queen\n",
      "got augmented prompt octopus queen, 1girl, solo, multicolored hair, twintails, open mouth, chibi, long hair, aqua hair, :d, two-tone hair, holding, looking at viewer, skirt, aqua eyes, necktie, hair ribbon, green hair, blunt bang\n",
      "got image0: ['saved_images/20240316133550_7378.png']\n"
     ]
    },
    {
     "name": "stderr",
     "output_type": "stream",
     "text": [
      "2024-03-16 13:36:00,250 [INFO] UniLogger: UniLoader.loads: .png LOADED from \"saved_images/20240316133550_7378.png\" in 0.00s\n",
      "2024-03-16 13:36:00,251 [INFO] UniLogger: UniLoader.loads: .png LOADED from \"saved_images/20240316133559_e617.png\" in 0.00s\n"
     ]
    },
    {
     "name": "stdout",
     "output_type": "stream",
     "text": [
      "got image1: ['saved_images/20240316133559_e617.png']\n",
      "stitched images\n",
      "got prompt octopus queen\n",
      "got augmented prompt octopus queen, 1girl, open mouth, armpits, purple hair, smile, arms up, medium breasts, purple eyes, restrained, looking at viewer, spread legs, eyebrows visible through hair, :d, bangs, bare shoulders, very long hair, collarbone, strapless dress, ski\n",
      "got image0: ['saved_images/20240316133616_7378.png']\n"
     ]
    },
    {
     "name": "stderr",
     "output_type": "stream",
     "text": [
      "2024-03-16 13:36:25,968 [INFO] UniLogger: UniLoader.loads: .png LOADED from \"saved_images/20240316133616_7378.png\" in 0.00s\n",
      "2024-03-16 13:36:25,969 [INFO] UniLogger: UniLoader.loads: .png LOADED from \"saved_images/20240316133625_d03c.png\" in 0.00s\n"
     ]
    },
    {
     "name": "stdout",
     "output_type": "stream",
     "text": [
      "got image1: ['saved_images/20240316133625_d03c.png']\n",
      "stitched images\n",
      "got prompt tentacle\n",
      "got augmented prompt tentacle hair, headphones, multiple boys, 1girl, blue hair, pink hair, green hair, pink eyes, long hair, orange eyes, 2boys, pointy ears, yellow eyes, multiple girls, blunt bangs, dark-skinned male, 1boy, 2girls, jacket, 3boy\n",
      "got image0: ['saved_images/20240316133743_15a9.png']\n"
     ]
    },
    {
     "name": "stderr",
     "output_type": "stream",
     "text": [
      "2024-03-16 13:37:52,497 [INFO] UniLogger: UniLoader.loads: .png LOADED from \"saved_images/20240316133743_15a9.png\" in 0.00s\n",
      "2024-03-16 13:37:52,498 [INFO] UniLogger: UniLoader.loads: .png LOADED from \"saved_images/20240316133752_3721.png\" in 0.00s\n"
     ]
    },
    {
     "name": "stdout",
     "output_type": "stream",
     "text": [
      "got image1: ['saved_images/20240316133752_3721.png']\n",
      "stitched images\n",
      "got prompt black dress, thighhighs, elbow gloves\n",
      "got augmented prompt black dress, thighhighs, elbow gloves, 1girl, white hair, boots, 1boy, black gloves, smile, black legwear, looking at another, black footwear, very long hair, black pants, grey eyes, purple eyes, black hair, fur trim, red flower, long sleeves, rose petals, black eyes\n",
      "got image0: ['saved_images/20240316133856_3527.png']\n"
     ]
    },
    {
     "name": "stderr",
     "output_type": "stream",
     "text": [
      "2024-03-16 13:39:06,120 [INFO] UniLogger: UniLoader.loads: .png LOADED from \"saved_images/20240316133856_3527.png\" in 0.00s\n",
      "2024-03-16 13:39:06,122 [INFO] UniLogger: UniLoader.loads: .png LOADED from \"saved_images/20240316133905_8e15.png\" in 0.00s\n"
     ]
    },
    {
     "name": "stdout",
     "output_type": "stream",
     "text": [
      "got image1: ['saved_images/20240316133905_8e15.png']\n",
      "stitched images\n",
      "got prompt black dress, thighhighs, elbow gloves, gothic lolita\n",
      "got augmented prompt black dress, thighhighs, elbow gloves, gothic lolita, lolita fashion, black hair, 3girls, frills, black legwear, high heels, multiple girls, multiple views, short hair, 1girl, standing, shoes, striped, from behind, black gloves, long hair, black footwear, 2girls, 1boy, hair ornament\n",
      "got image0: ['saved_images/20240316134127_3749.png']\n"
     ]
    },
    {
     "name": "stderr",
     "output_type": "stream",
     "text": [
      "2024-03-16 13:41:36,791 [INFO] UniLogger: UniLoader.loads: .png LOADED from \"saved_images/20240316134127_3749.png\" in 0.00s\n",
      "2024-03-16 13:41:36,792 [INFO] UniLogger: UniLoader.loads: .png LOADED from \"saved_images/20240316134136_9968.png\" in 0.00s\n"
     ]
    },
    {
     "name": "stdout",
     "output_type": "stream",
     "text": [
      "got image1: ['saved_images/20240316134136_9968.png']\n",
      "stitched images\n",
      "got prompt 1girl, solo, black dress, thighhighs, elbow gloves, gothic lolita, petals\n",
      "got augmented prompt 1girl, solo, black dress, thighhighs, elbow gloves, gothic lolita, petals, flower, hair ornament, red eyes, black hair, traditional media, colored pencil (medium), lolita hairband, brown hair, dress, gloves, hairband, rose, choker, frills, frilled dress, flower field, field, bow, rose petals, ribbon\n",
      "got image0: ['saved_images/20240316134225_d99f.png']\n"
     ]
    },
    {
     "name": "stderr",
     "output_type": "stream",
     "text": [
      "2024-03-16 13:42:34,523 [INFO] UniLogger: UniLoader.loads: .png LOADED from \"saved_images/20240316134225_d99f.png\" in 0.00s\n",
      "2024-03-16 13:42:34,524 [INFO] UniLogger: UniLoader.loads: .png LOADED from \"saved_images/20240316134234_b040.png\" in 0.00s\n"
     ]
    },
    {
     "name": "stdout",
     "output_type": "stream",
     "text": [
      "got image1: ['saved_images/20240316134234_b040.png']\n",
      "stitched images\n",
      "got prompt 1girl, solo, black dress, thighhighs, elbow gloves, gothic lolita, petals\n",
      "got augmented prompt 1girl, solo, black dress, thighhighs, elbow gloves, gothic lolita, petals, black eyes, brown hair, hair ornament, black hair, looking at viewer, black gloves, long hair, drill hair, hair flower, brown legwear, large breasts, frilled dress, black legwear, black bow, long sleeves, purple flower, white flower, hair between eyes\n",
      "got image0: ['saved_images/20240316134309_834c.png']\n"
     ]
    },
    {
     "name": "stderr",
     "output_type": "stream",
     "text": [
      "2024-03-16 13:43:18,951 [INFO] UniLogger: UniLoader.loads: .png LOADED from \"saved_images/20240316134309_834c.png\" in 0.00s\n",
      "2024-03-16 13:43:18,952 [INFO] UniLogger: UniLoader.loads: .png LOADED from \"saved_images/20240316134318_4929.png\" in 0.00s\n"
     ]
    },
    {
     "name": "stdout",
     "output_type": "stream",
     "text": [
      "got image1: ['saved_images/20240316134318_4929.png']\n",
      "stitched images\n",
      "got prompt 1girl, solo, black dress, thighhighs, elbow gloves, gothic lolita, petals, collar, frills, breasts\n",
      "got augmented prompt 1girl, solo, black dress, thighhighs, elbow gloves, gothic lolita, petals, collar, frills, breasts, frilled hairband, black hair, very long hair, black gloves, purple eyes, black hairband, short hair, long hair, dress, gloves, hairband, frilled dress, flower, oekaki, rose, green hair, choker, navel, tiara\n",
      "got image0: ['saved_images/20240316134437_8178.png']\n"
     ]
    },
    {
     "name": "stderr",
     "output_type": "stream",
     "text": [
      "2024-03-16 13:44:46,840 [INFO] UniLogger: UniLoader.loads: .png LOADED from \"saved_images/20240316134437_8178.png\" in 0.00s\n",
      "2024-03-16 13:44:46,842 [INFO] UniLogger: UniLoader.loads: .png LOADED from \"saved_images/20240316134446_99e4.png\" in 0.00s\n"
     ]
    },
    {
     "name": "stdout",
     "output_type": "stream",
     "text": [
      "got image1: ['saved_images/20240316134446_99e4.png']\n",
      "stitched images\n"
     ]
    }
   ],
   "source": [
    "import gradio as gr\n",
    "\n",
    "def roll_image(prompt:str):\n",
    "    print(\"got prompt\", prompt)\n",
    "    orig_prompt = prompt\n",
    "\n",
    "    augmented_prompt = get_gpt2_pred(prompt, 60)\n",
    "    print(\"got augmented prompt\", augmented_prompt)\n",
    "\n",
    "    orig_img_results = generate_and_save_images(orig_prompt)\n",
    "    print(f\"got image0: {orig_img_results}\")\n",
    "\n",
    "    augmented_img_results = generate_and_save_images(augmented_prompt)\n",
    "    print(f\"got image1: {augmented_img_results}\")\n",
    "    \n",
    "    img_paths = [orig_img_results[0], augmented_img_results[0]]\n",
    "    imgs = [ub.loads(img_path) for img_path in img_paths]\n",
    "\n",
    "    # stitch horizontally\n",
    "    stitch_img = Image.new('RGB', (imgs[0].width + imgs[1].width, imgs[0].height))\n",
    "    stitch_img.paste(imgs[0], (0, 0))\n",
    "    stitch_img.paste(imgs[1], (imgs[0].width, 0))\n",
    "    print(\"stitched images\")\n",
    "\n",
    "    prompt_return_str = f\"[Original] {orig_prompt}\\n\\n[Augmented] {augmented_prompt}\"\n",
    "\n",
    "    return prompt_return_str, stitch_img\n",
    "\n",
    "description = \"\"\"# LM-Augmented SDXL Demo\n",
    " Augments the input prompt with gpt-2, then generates 2 images for comparison. takes about 20 seconds to run.\n",
    " - model: fulldan-5m-9e \n",
    " - generation config: Euler a; cfg6.5; 24 steps\n",
    "\"\"\"\n",
    "\n",
    "inputs = [gr.Textbox(label=\"Enter prompt (comma-separated danbooru tags)\", placeholder=\"hatsune miku\"), ]\n",
    "outputs = [\n",
    "    gr.Textbox(label=\"Generated Prompts\"), \n",
    "    gr.Image(label=\"Generated Images\"), \n",
    "    ]\n",
    "\n",
    "# Define the Gradio interface\n",
    "interface = gr.Interface(fn=roll_image,\n",
    "                         inputs=inputs,\n",
    "                         outputs=outputs,\n",
    "                         description=description,\n",
    "                         )\n",
    "\n",
    "# Launch the Gradio app\n",
    "interface.launch(share=True)"
   ]
  }
 ],
 "metadata": {
  "kernelspec": {
   "display_name": "base",
   "language": "python",
   "name": "python3"
  },
  "language_info": {
   "codemirror_mode": {
    "name": "ipython",
    "version": 3
   },
   "file_extension": ".py",
   "mimetype": "text/x-python",
   "name": "python",
   "nbconvert_exporter": "python",
   "pygments_lexer": "ipython3",
   "version": "3.10.13"
  }
 },
 "nbformat": 4,
 "nbformat_minor": 2
}
