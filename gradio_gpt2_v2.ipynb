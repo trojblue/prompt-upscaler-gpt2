{
 "cells": [
  {
   "cell_type": "code",
   "execution_count": 4,
   "metadata": {},
   "outputs": [
    {
     "name": "stdout",
     "output_type": "stream",
     "text": [
      "Running on local URL:  http://127.0.0.1:7868\n",
      "Running on public URL: https://44b07123159cab6c40.gradio.live\n",
      "\n",
      "This share link expires in 72 hours. For free permanent hosting and GPU upgrades, run `gradio deploy` from Terminal to deploy to Spaces (https://huggingface.co/spaces)\n"
     ]
    },
    {
     "data": {
      "text/html": [
       "<div><iframe src=\"https://44b07123159cab6c40.gradio.live\" width=\"100%\" height=\"500\" allow=\"autoplay; camera; microphone; clipboard-read; clipboard-write;\" frameborder=\"0\" allowfullscreen></iframe></div>"
      ],
      "text/plain": [
       "<IPython.core.display.HTML object>"
      ]
     },
     "metadata": {},
     "output_type": "display_data"
    },
    {
     "data": {
      "text/plain": []
     },
     "execution_count": 4,
     "metadata": {},
     "output_type": "execute_result"
    }
   ],
   "source": [
    "import gradio as gr\n",
    "import transformers\n",
    "import torch\n",
    "import os\n",
    "\n",
    "# Assuming DEVICE is already defined (e.g., 'cuda' or 'cpu')\n",
    "DEVICE = 'cuda'  # or 'cpu' if you are not using CUDA\n",
    "\n",
    "MODEL_DIRS = [\n",
    "    # '/home/ubuntu/dev/naifu/checkopint/checkpoint-e0_s8000',\n",
    "    # '/home/ubuntu/dev/naifu/checkpoint_run2/checkpoint-e0_s18000',\n",
    "    # 'pixiv-prompts-gpt-finetunes/pixiv_resampled_epoch_0_batch_168178',\n",
    "    # \"pixiv-prompts-gpt-finetunes/pixiv_best_10m_e0_s40000\",\n",
    "    # 'pixiv-prompts-gpt-finetunes/8xh100_run1_e2_s26k',\n",
    "    # 'pixiv-prompts-gpt-finetunes/8xh100_run2_e1_s46k',\n",
    "    'pixiv-prompts-gpt-finetunes/8xh100_run2_e2_s50k',\n",
    "]\n",
    "\n",
    "# Load models and tokenizers from directories\n",
    "models = {}\n",
    "tokenizers = {}\n",
    "for model_dir in MODEL_DIRS:\n",
    "    model_name = os.path.basename(os.path.normpath(model_dir))\n",
    "    models[model_name] = transformers.GPT2LMHeadModel.from_pretrained(model_dir).to(DEVICE)\n",
    "    tokenizers[model_name] = transformers.AutoTokenizer.from_pretrained(model_dir)\n",
    "\n",
    "def generate_text(rating:str, date:str, quality:str, character, prompt:str, max_length=20, selected_models=[]):\n",
    "    \"\"\"Generates text based on the input prompt for selected models.\"\"\"\n",
    "\n",
    "    query_prompt =f'<input rating=\"{rating}\" chara=\"{character}\" date=\"{date}\" quality=\"{quality}\" tags=\"{prompt}\">'\n",
    "    query_prompt += \"<output>\"\n",
    "\n",
    "    outputs = {\"original\": query_prompt}\n",
    "    for model_name in selected_models:\n",
    "        model = models[model_name].eval()  # Set the model to evaluation mode\n",
    "        tokenizer = tokenizers[model_name]\n",
    "        input_ids = tokenizer.encode(query_prompt, return_tensors='pt').to(DEVICE)\n",
    "        attention_mask = torch.ones(input_ids.shape, device=DEVICE)  # Create an attention mask for the inputs\n",
    "        output_sequences = model.generate(\n",
    "            input_ids=input_ids,\n",
    "            attention_mask=attention_mask,\n",
    "            max_length=max_length + len(input_ids[0]),\n",
    "            temperature=1.0,\n",
    "            top_k=50,\n",
    "            top_p=0.95,\n",
    "            repetition_penalty=1.0,\n",
    "            do_sample=True,\n",
    "            num_return_sequences=1,\n",
    "        )\n",
    "        \n",
    "        generated_sequence = output_sequences[0].tolist()\n",
    "        text = tokenizer.decode(generated_sequence, clean_up_tokenization_spaces=True)\n",
    "        text = text[: text.find(tokenizer.eos_token)] if tokenizer.eos_token else text  # Remove the end of sequence token\n",
    "\n",
    "        # find the first <output> tag and remove everything before it\n",
    "        text = text[text.find(\"<output>\") + len(\"<output>\"):].strip()\n",
    "        text.replace(\"</output>\", \"\")\n",
    "\n",
    "        outputs[model_name] = text  # Store the generated text for the model\n",
    "\n",
    "    # Return the generated texts as a dictionary\n",
    "    return outputs\n",
    "\n",
    "\n",
    "checkbox_choices = [os.path.basename(os.path.normpath(model_dir)) for model_dir in MODEL_DIRS]\n",
    "\n",
    "# <input rating=\"sensitive\" chara=\"\" date=\"2020s\" quality=\"normal\" tags=\"\"><output>\n",
    "    \n",
    "# Define Gradio interface\n",
    "iface = gr.Interface(\n",
    "    fn=generate_text,\n",
    "    inputs=[\n",
    "        # gr.Radio(choices=[\"safe\", \"sensitive\", \"nsfw\", \"nsfw, explicit\"], label=\"Rating\", value=\"safe\"),\n",
    "        # gr.Radio(choices=[\"2000s\", \"2010s\", \"2015s\", \"2020s\"], label=\"Date\", value=\"2020s\"),\n",
    "        # gr.Radio(choices=[\"bad\", \"normal\", \"good\", \"excellent\"], label=\"Quality\", value=\"excellent\"),\n",
    "        gr.Radio(choices=[\"general\",  \"nsfw\",], label=\"Rating\", value=\"safe\"),\n",
    "        gr.Radio(choices=[\"2000s\", \"2010s\", \"2020s\"], label=\"Date\", value=\"2020s\"),\n",
    "        gr.Radio(choices=[\"normal\", \"good\", \"excellent\"], label=\"Quality\", value=\"excellent\"),\n",
    "        gr.Textbox(lines=1, placeholder=\"Enter your prompt here...\", label=\"Character\"),\n",
    "        gr.Textbox(lines=2, placeholder=\"Enter your prompt here...\"),\n",
    "        gr.Slider(minimum=40, maximum=300, value=140, step=10),\n",
    "        gr.CheckboxGroup(choices=checkbox_choices, label=\"Select Models\", value=checkbox_choices),\n",
    "    ],\n",
    "    outputs=gr.JSON(label=\"Generated Texts\"),\n",
    "    title=\"GPT-2 Text Generation | Multi-Model Support\",\n",
    "    description=\"This interface generates text based on the input prompt using selected models. Each model is fine-tuned from GPT-2.\"\n",
    ")\n",
    "\n",
    "# Launch the interface\n",
    "iface.launch(share=True)\n",
    "\n",
    "\n",
    "# e0_s18000: good (ip, composition)\n",
    "# e0_s36000: bad (all ways)"
   ]
  },
  {
   "cell_type": "code",
   "execution_count": 5,
   "metadata": {},
   "outputs": [
    {
     "name": "stdout",
     "output_type": "stream",
     "text": [
      "/home/ubuntu/dev/prompt-upscaler-gpt2\n"
     ]
    },
    {
     "name": "stderr",
     "output_type": "stream",
     "text": [
      "huggingface/tokenizers: The current process just got forked, after parallelism has already been used. Disabling parallelism to avoid deadlocks...\n",
      "To disable this warning, you can either:\n",
      "\t- Avoid using `tokenizers` before the fork if possible\n",
      "\t- Explicitly set the environment variable TOKENIZERS_PARALLELISM=(true | false)\n"
     ]
    }
   ],
   "source": [
    "!pwd"
   ]
  }
 ],
 "metadata": {
  "kernelspec": {
   "display_name": "Python 3 (ipykernel)",
   "language": "python",
   "name": "python3"
  },
  "language_info": {
   "codemirror_mode": {
    "name": "ipython",
    "version": 3
   },
   "file_extension": ".py",
   "mimetype": "text/x-python",
   "name": "python",
   "nbconvert_exporter": "python",
   "pygments_lexer": "ipython3",
   "version": "3.10.13"
  }
 },
 "nbformat": 4,
 "nbformat_minor": 2
}
